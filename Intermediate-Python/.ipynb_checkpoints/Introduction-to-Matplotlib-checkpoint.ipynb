{
 "cells": [
  {
   "cell_type": "code",
   "execution_count": 1,
   "metadata": {},
   "outputs": [],
   "source": [
    "# Gorsellestirme icin matplotlib.pyplot alt paketi import matplotlib.pyplot as plt olarak dahil edilebilir.\n",
    "# Basit bir line plot plt.plot(X, Y) seklinde olusturulabiliyor. X:x eksenindeki degerler, Y:y eksenindeki degerler\n",
    "# plt.show() cagrisi yapilmadan grafik gosterilmez. show() cagrisindan once cesitli ozellestirmeler yapabiliriz.\n",
    "# plt.clf() grafigi temizler."
   ]
  },
  {
   "cell_type": "code",
   "execution_count": 2,
   "metadata": {},
   "outputs": [],
   "source": [
    "# Basit bir scatter plot plt.scatter(X, Y) seklinde olusturulabilir.\n",
    "# Ozellikle eksenlerdeki degiskenler arasinda korelasyon varsa scatter plot kullanmak mantiklidir.\n",
    "# Eksenleren birini ornegin X eksenini su cagri ile olcekleyebiliriz: plt.xscale('log')\n",
    "# X eksenini logaritmik olcege almak degiskenler arasindaki korelasyonu daha acik hale getirir."
   ]
  },
  {
   "cell_type": "code",
   "execution_count": 3,
   "metadata": {},
   "outputs": [],
   "source": [
    "# Histogramlar verilerin dagilimlarini gormek icin faydalidir.\n",
    "# plt.hist() cagrisi ile bir histogram olusturabiliriz. Ilk arguman verilerin tutuldugu veri yapisini alir\n",
    "# ikinci arguman ise histogramda kac tane kutucuk olacagini belirler. Varsayilan kutucuk sayisi 10 dur.\n",
    "# Kutucuk sayisi az secildiginde gerceklik basitlestirilebilir ve detaylar kaybolur. Kutucuk sayisi cok\n",
    "# secildiginde ise isler karisir ve buyuk resim gorulemeyebilir."
   ]
  },
  {
   "cell_type": "code",
   "execution_count": 21,
   "metadata": {},
   "outputs": [],
   "source": [
    "# Grafiklerimizi ozellestirerek daha ilgi cekici ve bilgilendirici yapabiliriz.\n",
    "# plt.xlabel() ve plt.ylabel() metodlari ile eksenleri etiketlendirebiliririz.\n",
    "# plt.title() metodu ile grafigimize bir baslik verebiliriz.\n",
    "# plt.xticks() metodu ile x ekseninde gosterilecek etiket araliklarini belirleyebiliriz.\n",
    "# xticks() metodunun ilk argumani bu araliklari alir, ikinci arguman ise bu araliklar yerine baska isimler\n",
    "# belirlememizi saglar.\n",
    "# Grafikte s=liste seklinde bir liste saglayarak her bir noktanın buyuklugunu ayarlayabiliriz\n",
    "# Grafikte c=liste seklinde bir liste saglayarak noktalarin farkli renkte olmasini saglayabiliriz\n",
    "# Grafikte alpha=deger seklinde 0 ve 1 arasinda bir deger saglayarak renklerin opakligini ayarlayabiliriz\n",
    "# Grafikte plt.grid(True) cagrisi ile kafes dogrularinin gozukmesini saglayabiliriz\n",
    "# Grafikte plt.text(x, y, label) cagrisi ile belirtilen koordinatlarda metin gozukmesini saglayabiliriz "
   ]
  },
  {
   "cell_type": "code",
   "execution_count": 26,
   "metadata": {},
   "outputs": [
    {
     "data": {
      "image/png": "[encoded data removed]",
      "text/plain": [
       "<Figure size 432x288 with 1 Axes>"
      ]
     },
     "metadata": {
      "needs_background": "light"
     },
     "output_type": "display_data"
    }
   ],
   "source": [
    "import matplotlib.pyplot as plt\n",
    "import numpy as np\n",
    "\n",
    "X = [1000, 2000, 3000, 4000, 5000, 6000]\n",
    "Y = np.array([1, 2, 3, 4, 5, 6])\n",
    "col = [\"red\", \"green\", \"yellow\", \"black\", \"blue\", \"purple\"]\n",
    "\n",
    "plt.scatter(X, Y, s=20*Y, c=col)\n",
    "plt.xlabel(\"X Values\")\n",
    "plt.ylabel(\"Y Values\")\n",
    "plt.xticks([2000, 4000, 6000], [\"Twenty\", \"Forty\", \"Sixty\"])\n",
    "plt.grid(True)\n",
    "plt.text(4000, 4, 'Black')\n",
    "plt.show()"
   ]
  },
  {
   "cell_type": "code",
   "execution_count": null,
   "metadata": {},
   "outputs": [],
   "source": []
  }
 ],
 "metadata": {
  "kernelspec": {
   "display_name": "Python 3",
   "language": "python",
   "name": "python3"
  },
  "language_info": {
   "codemirror_mode": {
    "name": "ipython",
    "version": 3
   },
   "file_extension": ".py",
   "mimetype": "text/x-python",
   "name": "python",
   "nbconvert_exporter": "python",
   "pygments_lexer": "ipython3",
   "version": "3.6.8"
  }
 },
 "nbformat": 4,
 "nbformat_minor": 2
}
