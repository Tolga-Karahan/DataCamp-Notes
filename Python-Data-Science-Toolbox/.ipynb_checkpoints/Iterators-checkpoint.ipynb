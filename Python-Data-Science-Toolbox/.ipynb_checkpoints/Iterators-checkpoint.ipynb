{
 "cells": [
  {
   "cell_type": "code",
   "execution_count": 1,
   "metadata": {},
   "outputs": [],
   "source": [
    "# Şu ana dek döngü kurduğumuz list, string ve range nesneleri gibi nesneler iterable olduğu için bunu yapabildik\n",
    "# Iterable nesnelere iter() fonksiyonu uygulandığında karşılık düşen iterator nesnesi elde edilir\n",
    "# Iteratorlar next fonksiyonu ile kullanılarak bir sonraki eleman elde edilir, elemanlar bittiğinde StopIteration\n",
    "# hatası meydana gelir"
   ]
  },
  {
   "cell_type": "code",
   "execution_count": 3,
   "metadata": {},
   "outputs": [
    {
     "ename": "StopIteration",
     "evalue": "",
     "output_type": "error",
     "traceback": [
      "\u001b[0;31m---------------------------------------------------------------------------\u001b[0m",
      "\u001b[0;31mStopIteration\u001b[0m                             Traceback (most recent call last)",
      "\u001b[0;32m<ipython-input-3-cf80f9cfbeb9>\u001b[0m in \u001b[0;36m<module>\u001b[0;34m\u001b[0m\n\u001b[1;32m      4\u001b[0m \u001b[0mnext\u001b[0m\u001b[0;34m(\u001b[0m\u001b[0miterator\u001b[0m\u001b[0;34m)\u001b[0m\u001b[0;34m\u001b[0m\u001b[0m\n\u001b[1;32m      5\u001b[0m \u001b[0mnext\u001b[0m\u001b[0;34m(\u001b[0m\u001b[0miterator\u001b[0m\u001b[0;34m)\u001b[0m\u001b[0;34m\u001b[0m\u001b[0m\n\u001b[0;32m----> 6\u001b[0;31m \u001b[0mnext\u001b[0m\u001b[0;34m(\u001b[0m\u001b[0miterator\u001b[0m\u001b[0;34m)\u001b[0m\u001b[0;34m\u001b[0m\u001b[0m\n\u001b[0m",
      "\u001b[0;31mStopIteration\u001b[0m: "
     ]
    }
   ],
   "source": [
    "my_list = [1, 2, 3]\n",
    "iterator = iter(a)\n",
    "next(iterator)\n",
    "next(iterator)\n",
    "next(iterator)\n",
    "next(iterator)"
   ]
  },
  {
   "cell_type": "code",
   "execution_count": 4,
   "metadata": {},
   "outputs": [],
   "source": [
    "# * operatörü ile iteratorün tüm değerleri tek seferde bir araya getirilebilir. Operatör bir kez kullanıldığında\n",
    "# iteratör içerisindeki tüm değerler kullanılır bu nedenle ikinci bir çağrı sonuç üretmez"
   ]
  },
  {
   "cell_type": "code",
   "execution_count": 7,
   "metadata": {},
   "outputs": [
    {
     "name": "stdout",
     "output_type": "stream",
     "text": [
      "1 2 3\n",
      "\n"
     ]
    }
   ],
   "source": [
    "my_list = [1, 2, 3]\n",
    "iterator = iter(a)\n",
    "print(*iterator)\n",
    "print(*iterator)"
   ]
  },
  {
   "cell_type": "code",
   "execution_count": 8,
   "metadata": {},
   "outputs": [],
   "source": [
    "# Dictionaryler ve dosya bağlantıları da iterabledır. Dictionaryler üzerinde iterasyon yapabilmek için items()\n",
    "# metodu ile tüm elemanları unpack ederiz. Dosya bağlantılarından iter fonksiyonu ile bir iteratör oluşturabiliriz\n",
    "# Ardından next fonksiyonuna bu iteratörü vererek satırları elde ederiz"
   ]
  },
  {
   "cell_type": "code",
   "execution_count": 11,
   "metadata": {},
   "outputs": [
    {
     "name": "stdout",
     "output_type": "stream",
     "text": [
      "first : Tolga\n",
      "last : Karahan\n",
      "age : 24\n"
     ]
    }
   ],
   "source": [
    "my_dict = {\"first\":\"Tolga\", \"last\":\"Karahan\", \"age\":24}\n",
    "for key, value in my_dict.items():\n",
    "    print(key, \":\", value)"
   ]
  },
  {
   "cell_type": "code",
   "execution_count": 13,
   "metadata": {},
   "outputs": [
    {
     "data": {
      "text/plain": [
       "'This is the second line!'"
      ]
     },
     "execution_count": 13,
     "metadata": {},
     "output_type": "execute_result"
    }
   ],
   "source": [
    "file = open(\"test.txt\")\n",
    "iterator = iter(file)\n",
    "next(iterator)\n",
    "next(iterator)"
   ]
  },
  {
   "cell_type": "code",
   "execution_count": 14,
   "metadata": {},
   "outputs": [],
   "source": [
    "# enumerate fonksiyonuna bir iterable ı argüman olarak verdiğimizde değerlerin indisi ve kendisinden\n",
    "# oluşan tupleları içeren bir iteratör nesnesi elde ederiz. enumerate fonksiyonuna start\n",
    "# argümanı ile indislerin hangi numaradan itibaren başlayacağını verebiliriz"
   ]
  },
  {
   "cell_type": "code",
   "execution_count": 15,
   "metadata": {},
   "outputs": [
    {
     "name": "stdout",
     "output_type": "stream",
     "text": [
      "100 : 1\n",
      "101 : 2\n",
      "102 : 3\n"
     ]
    }
   ],
   "source": [
    "my_list = [1, 2, 3]\n",
    "\n",
    "for index, num in enumerate(my_list, start=100):\n",
    "    print(index, \":\", num)"
   ]
  },
  {
   "cell_type": "code",
   "execution_count": 16,
   "metadata": {},
   "outputs": [],
   "source": [
    "# zip fonksiyonu herhangi bir sayıda iterable ı argüman olarak alabilir ve argüman sayısı kadar iterator içeren\n",
    "# bir tuple döndürür. Zip nesnesi ile *(splat) operatörünü de kullanabiliriz"
   ]
  },
  {
   "cell_type": "code",
   "execution_count": 1,
   "metadata": {},
   "outputs": [
    {
     "name": "stdout",
     "output_type": "stream",
     "text": [
      "1   a\n",
      "2   b\n",
      "3   c\n",
      "(1, 'a') (2, 'b') (3, 'c')\n"
     ]
    }
   ],
   "source": [
    "my_second_list = [1, 2, 3]\n",
    "my_third_list = [\"a\", \"b\", \"c\"]\n",
    "\n",
    "for elem1, elem2 in zip(my_second_list, my_third_list):\n",
    "    print(elem1, \" \", elem2)\n",
    "\n",
    "test = list(zip(my_second_list, my_third_list))\n",
    "test\n",
    "\n",
    "test2 = zip(my_second_list, my_third_list)\n",
    "print(*test2)"
   ]
  },
  {
   "cell_type": "code",
   "execution_count": 25,
   "metadata": {},
   "outputs": [],
   "source": [
    "# splat operatörü ve zip fonksiyonunu kullanarak daha önceden zip\n",
    "# ile birleştirdiğimiz iterableları tekrar bileşenlerine ayırabiliriz"
   ]
  },
  {
   "cell_type": "code",
   "execution_count": 5,
   "metadata": {},
   "outputs": [
    {
     "name": "stdout",
     "output_type": "stream",
     "text": [
      "(1, 2, 3)\n",
      "('a', 'b', 'c')\n"
     ]
    }
   ],
   "source": [
    "my_fourth_list = [1, 2, 3]\n",
    "my_tuple = ('a', 'b', 'c')\n",
    "\n",
    "my_zip = zip(my_fourth_list, my_tuple)\n",
    "recreated1, recreated2 = zip(*my_zip)\n",
    "print(recreated1)\n",
    "print(recreated2)"
   ]
  },
  {
   "cell_type": "code",
   "execution_count": 29,
   "metadata": {},
   "outputs": [],
   "source": [
    "# Çok büyük miktarlarda verinin üzerinde işlem yapılması ve dolayısıyla belleğe alınması gerekebilir\n",
    "# Bu gibi durumlarda verileri yığın(chunk) olarak belleğe alır üzerinde işlem yapar ve sonraki yığını alırız\n",
    "# İteratörler bu gibi durumlarda kolaylıklar sağlar, örneğin read_csv çağrısını bunun için kullanabiliriz\n",
    "# for chunk in read_csv('data', chunksize=1000)"
   ]
  },
  {
   "cell_type": "code",
   "execution_count": 30,
   "metadata": {},
   "outputs": [],
   "source": [
    "# Define count_entries()\n",
    "def count_entries(csv_file, c_size, colname):\n",
    "    \"\"\"Return a dictionary with counts of\n",
    "    occurrences as value for each key.\"\"\"\n",
    "    \n",
    "    # Initialize an empty dictionary: counts_dict\n",
    "    counts_dict = {}\n",
    "\n",
    "    # Iterate over the file chunk by chunk\n",
    "    for chunk in pd.read_csv(csv_file, chunksize=c_size):\n",
    "\n",
    "        # Iterate over the column in DataFrame\n",
    "        for entry in chunk[colname]:\n",
    "            if entry in counts_dict.keys():\n",
    "                counts_dict[entry] += 1\n",
    "            else:\n",
    "                counts_dict[entry] = 1\n",
    "\n",
    "    # Return counts_dict\n",
    "    return counts_dict"
   ]
  }
 ],
 "metadata": {
  "kernelspec": {
   "display_name": "Python 3",
   "language": "python",
   "name": "python3"
  },
  "language_info": {
   "codemirror_mode": {
    "name": "ipython",
    "version": 3
   },
   "file_extension": ".py",
   "mimetype": "text/x-python",
   "name": "python",
   "nbconvert_exporter": "python",
   "pygments_lexer": "ipython3",
   "version": "3.6.6"
  }
 },
 "nbformat": 4,
 "nbformat_minor": 2
}
