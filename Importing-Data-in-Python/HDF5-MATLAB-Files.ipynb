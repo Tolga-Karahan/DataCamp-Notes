{
 "cells": [
  {
   "cell_type": "code",
   "execution_count": 1,
   "metadata": {},
   "outputs": [],
   "source": [
    "# Hierarchical Data Format ver 5 anlamına gelir\n",
    "# Büyük miktarlarda sayısal veriyi saklamak için kullanılır\n",
    "# HDF5 dosyaları üzerinde işlem yapmak için h5py modülünü kullanıyoruz"
   ]
  },
  {
   "cell_type": "code",
   "execution_count": 4,
   "metadata": {},
   "outputs": [
    {
     "name": "stdout",
     "output_type": "stream",
     "text": [
      "<HDF5 file \"LOSC.hdf5\" (mode r)>\n"
     ]
    }
   ],
   "source": [
    "import h5py\n",
    "\n",
    "data = h5py.File('LOSC.hdf5', 'r')\n",
    "print(data)"
   ]
  },
  {
   "cell_type": "code",
   "execution_count": 7,
   "metadata": {},
   "outputs": [
    {
     "name": "stdout",
     "output_type": "stream",
     "text": [
      "meta\n",
      "quality\n",
      "strain\n",
      "Type of meta is:  <class 'h5py._hl.group.Group'>\n"
     ]
    }
   ],
   "source": [
    "# HDF5 dosyaları hiyerarşik bir yapıya sahiptir. Her biri bir gruba denk gelen anahtar değerler söz konusudur\n",
    "for key in data.keys():\n",
    "    print(key)\n",
    "print('Type of meta is: ', type(data['meta']))"
   ]
  },
  {
   "cell_type": "code",
   "execution_count": 10,
   "metadata": {},
   "outputs": [
    {
     "name": "stdout",
     "output_type": "stream",
     "text": [
      "Description\n",
      "DescriptionURL\n",
      "Detector\n",
      "Duration\n",
      "GPSstart\n",
      "Observatory\n",
      "Type\n",
      "UTCstart\n",
      "b'Strain data time series from LIGO'\n"
     ]
    }
   ],
   "source": [
    "# Grup içeriğinde neler olması gerektiği biliniyorsa doğrudan erişilebilir\n",
    "# Bilinmiyorsa hiyerarşik yapı sayesinde anahtar değerler üzerinden iterasyon yapılarak içerik anlaşılabilir\n",
    "for key in data['meta'].keys():\n",
    "    print(key)\n",
    "    \n",
    "print(data['meta']['Description'].value)"
   ]
  },
  {
   "cell_type": "code",
   "execution_count": null,
   "metadata": {},
   "outputs": [],
   "source": [
    "# MATLAB dosyalarını yüklemek ve kaydetmek için scipy.io içerisinde bulunan loadmat ve savemat metodlarını\n",
    "# kullanabiliriz. MATLAB dosyalarını okuduğumuzda geriye bir dictionary referansı döndürülür. Bu dictionary\n",
    "# içerisinde anahtarlar MATLAB  değişken isimlerine ve değerler karşılık düşen nesnelere karşılık gelir"
   ]
  }
 ],
 "metadata": {
  "kernelspec": {
   "display_name": "Python 3",
   "language": "python",
   "name": "python3"
  },
  "language_info": {
   "codemirror_mode": {
    "name": "ipython",
    "version": 3
   },
   "file_extension": ".py",
   "mimetype": "text/x-python",
   "name": "python",
   "nbconvert_exporter": "python",
   "pygments_lexer": "ipython3",
   "version": "3.6.8"
  }
 },
 "nbformat": 4,
 "nbformat_minor": 2
}
