{
 "cells": [
  {
   "cell_type": "code",
   "execution_count": 8,
   "metadata": {},
   "outputs": [],
   "source": [
    "import numpy as np\n",
    "import pandas as pd"
   ]
  },
  {
   "cell_type": "code",
   "execution_count": 1,
   "metadata": {},
   "outputs": [],
   "source": [
    "# Pythonda for döngüsü ile bir iterable üzerinde iterasyon yapabiliriz ve indekslere ihtiyaç duymayız\n",
    "# İlla indeksleri kullanmak istiyorsak enumerate fonksiyonundan yararlanabiliriz"
   ]
  },
  {
   "cell_type": "code",
   "execution_count": 3,
   "metadata": {},
   "outputs": [
    {
     "name": "stdout",
     "output_type": "stream",
     "text": [
      "index:  0 number:  1.03\n",
      "index:  1 number:  2.74\n",
      "index:  2 number:  3.14\n",
      "index:  3 number:  6.12\n"
     ]
    }
   ],
   "source": [
    "my_list = [1.03, 2.74, 3.14, 6.12]\n",
    "\n",
    "for index, num in enumerate(my_list):\n",
    "    print(\"index: \", index, \"number: \", num)"
   ]
  },
  {
   "cell_type": "code",
   "execution_count": 4,
   "metadata": {},
   "outputs": [],
   "source": [
    "# items metodunu kullanarak bir dictionary üzerinde iterasyon yapabiliriz"
   ]
  },
  {
   "cell_type": "code",
   "execution_count": 6,
   "metadata": {},
   "outputs": [
    {
     "name": "stdout",
     "output_type": "stream",
     "text": [
      "Matematik :  100\n",
      "Programlama :  100\n",
      "İngilizce :  100\n"
     ]
    }
   ],
   "source": [
    "my_dict={\"Matematik\": 100, \"Programlama\": 100, \"İngilizce\": 100}\n",
    "\n",
    "for key, value in my_dict.items():\n",
    "    print(key,\": \",value)"
   ]
  },
  {
   "cell_type": "code",
   "execution_count": 9,
   "metadata": {},
   "outputs": [],
   "source": [
    "# İki boyutlu numpy listlerini nditer metodu ile tek for döngüsünde gezebiliriz"
   ]
  },
  {
   "cell_type": "code",
   "execution_count": 11,
   "metadata": {},
   "outputs": [
    {
     "name": "stdout",
     "output_type": "stream",
     "text": [
      "1\n",
      "2\n",
      "3\n",
      "4\n",
      "5\n",
      "6\n"
     ]
    }
   ],
   "source": [
    "my_list=np.array([[1, 2, 3], [4, 5, 6]])\n",
    "\n",
    "for value in np.nditer(my_list):\n",
    "    print(value)"
   ]
  },
  {
   "cell_type": "code",
   "execution_count": 12,
   "metadata": {},
   "outputs": [],
   "source": [
    "# Bir pandas dataframe üzerinde iterasyon yaptığımızda sadece sütun isimlerini alırız"
   ]
  },
  {
   "cell_type": "code",
   "execution_count": 13,
   "metadata": {},
   "outputs": [
    {
     "name": "stdout",
     "output_type": "stream",
     "text": [
      "country\n",
      "capital\n",
      "area\n",
      "population\n"
     ]
    }
   ],
   "source": [
    "# Create sample pandas data frame\n",
    "brics = {'country':['brazil', 'russia', 'india', 'china', 'south africa'],\n",
    "         'capital':['brasilia', 'moscow', 'delhi', 'beijing', 'pretoria'],\n",
    "         'area':[8.516, 17.10, 3.286, 9.597, 1.221],\n",
    "         'population':[200.4, 143.5, 1252, 1357, 52.98]}\n",
    "\n",
    "brics_df = pd.DataFrame(brics)\n",
    "brics_df.index = ['BR', 'RU', 'IN', 'CH', 'SA']\n",
    "\n",
    "for country in brics:\n",
    "    print(country)"
   ]
  },
  {
   "cell_type": "code",
   "execution_count": 14,
   "metadata": {},
   "outputs": [],
   "source": [
    "# iterrows metodunu kullanarak dataframe in satırları üzerinde iterasyon yapabiliriz. iterrows metodu her iterasyon\n",
    "# içerisinde iki tane veri uretir: satir etiketi ve satir verilerini tutan bir pandas series."
   ]
  },
  {
   "cell_type": "code",
   "execution_count": 17,
   "metadata": {},
   "outputs": [
    {
     "name": "stdout",
     "output_type": "stream",
     "text": [
      "BR\n",
      "country         brazil\n",
      "capital       brasilia\n",
      "area             8.516\n",
      "population       200.4\n",
      "Name: BR, dtype: object\n",
      "RU\n",
      "country       russia\n",
      "capital       moscow\n",
      "area            17.1\n",
      "population     143.5\n",
      "Name: RU, dtype: object\n",
      "IN\n",
      "country       india\n",
      "capital       delhi\n",
      "area          3.286\n",
      "population     1252\n",
      "Name: IN, dtype: object\n",
      "CH\n",
      "country         china\n",
      "capital       beijing\n",
      "area            9.597\n",
      "population       1357\n",
      "Name: CH, dtype: object\n",
      "SA\n",
      "country       south africa\n",
      "capital           pretoria\n",
      "area                 1.221\n",
      "population           52.98\n",
      "Name: SA, dtype: object\n"
     ]
    }
   ],
   "source": [
    "for label, row in brics_df.iterrows():\n",
    "    print(label)\n",
    "    print(row)"
   ]
  },
  {
   "cell_type": "code",
   "execution_count": 18,
   "metadata": {},
   "outputs": [],
   "source": [
    "# Etiket ve satirlardaki sadece tek bir sütun verisini göstermek için subsetting yaparız"
   ]
  },
  {
   "cell_type": "code",
   "execution_count": 21,
   "metadata": {},
   "outputs": [
    {
     "name": "stdout",
     "output_type": "stream",
     "text": [
      "BR: brasilia\n",
      "RU: moscow\n",
      "IN: delhi\n",
      "CH: beijing\n",
      "SA: pretoria\n"
     ]
    }
   ],
   "source": [
    "for label, data in brics_df.iterrows():\n",
    "    print(label + \": \" + data[\"capital\"])"
   ]
  },
  {
   "cell_type": "code",
   "execution_count": 22,
   "metadata": {},
   "outputs": [],
   "source": [
    "# Dataframedeki her bir satıra ülke isminin uzunluğunu belirten bir sütun ekleyelim\n",
    "# Bu işlem her iterasyonda yeni bir pandas series eklediği için verimli değildir"
   ]
  },
  {
   "cell_type": "code",
   "execution_count": 26,
   "metadata": {},
   "outputs": [
    {
     "name": "stdout",
     "output_type": "stream",
     "text": [
      "         country   capital    area  population  name_length\n",
      "BR        brazil  brasilia   8.516      200.40          6.0\n",
      "RU        russia    moscow  17.100      143.50          6.0\n",
      "IN         india     delhi   3.286     1252.00          5.0\n",
      "CH         china   beijing   9.597     1357.00          5.0\n",
      "SA  south africa  pretoria   1.221       52.98         12.0\n"
     ]
    }
   ],
   "source": [
    "for label, data in brics_df.iterrows():\n",
    "    brics_df.loc[label, \"name_length\"] = len(data[\"country\"])\n",
    "\n",
    "print(brics_df)"
   ]
  },
  {
   "cell_type": "code",
   "execution_count": 27,
   "metadata": {},
   "outputs": [],
   "source": [
    "# Yukarıdaki işlemin yerine çok daha verimli sonuçlar elde etmemizi sağlayan apply metodunu kullanabiliriz\n",
    "# apply metodu belirtilen sütun üzerinde argüman olarak verilen işlemi yapar ve series nesnesi döndürür"
   ]
  },
  {
   "cell_type": "code",
   "execution_count": 29,
   "metadata": {},
   "outputs": [
    {
     "name": "stdout",
     "output_type": "stream",
     "text": [
      "         country   capital    area  population  name_length\n",
      "BR        brazil  brasilia   8.516      200.40            6\n",
      "RU        russia    moscow  17.100      143.50            6\n",
      "IN         india     delhi   3.286     1252.00            5\n",
      "CH         china   beijing   9.597     1357.00            5\n",
      "SA  south africa  pretoria   1.221       52.98           12\n"
     ]
    }
   ],
   "source": [
    "brics_df[\"name_length\"] = brics_df[\"country\"].apply(len)\n",
    "print(brics_df)"
   ]
  },
  {
   "cell_type": "code",
   "execution_count": null,
   "metadata": {},
   "outputs": [],
   "source": []
  }
 ],
 "metadata": {
  "kernelspec": {
   "display_name": "Python 3",
   "language": "python",
   "name": "python3"
  },
  "language_info": {
   "codemirror_mode": {
    "name": "ipython",
    "version": 3
   },
   "file_extension": ".py",
   "mimetype": "text/x-python",
   "name": "python",
   "nbconvert_exporter": "python",
   "pygments_lexer": "ipython3",
   "version": "3.6.6"
  }
 },
 "nbformat": 4,
 "nbformat_minor": 2
}
