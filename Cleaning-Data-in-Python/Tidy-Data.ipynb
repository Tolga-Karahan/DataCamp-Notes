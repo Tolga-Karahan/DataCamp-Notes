{
 "cells": [
  {
   "cell_type": "code",
   "execution_count": 1,
   "metadata": {},
   "outputs": [],
   "source": [
    "# Hadley Wickham 2014 yılında derli toplu veriler hakkında bir makale yazmıştır\n",
    "# Bu makale ile verilerimizin şeklinin tanımlanması formalize edilmiştir\n",
    "# Bu şekilde veri kümesindeki veri değerlerinin organize edilmesi için standart bir yöntem sağlanmıştır"
   ]
  },
  {
   "cell_type": "code",
   "execution_count": 14,
   "metadata": {},
   "outputs": [
    {
     "name": "stdout",
     "output_type": "stream",
     "text": [
      "     name  treatment a  treatment b\n",
      "0  Daniel          NaN           42\n",
      "1    John         12.0           31\n",
      "2    Jane         24.0           27\n"
     ]
    }
   ],
   "source": [
    "import pandas as pd\n",
    "\n",
    "data = {'name':['Daniel', 'John', 'Jane'],\n",
    "        'treatment a':[None, 12, 24],\n",
    "        'treatment b':[42, 31, 27]}\n",
    "\n",
    "df = pd.DataFrame(data)\n",
    "print(df)"
   ]
  },
  {
   "cell_type": "code",
   "execution_count": 6,
   "metadata": {},
   "outputs": [],
   "source": [
    "# Derli toplu veri üç prensibe dayanır:\n",
    "# 1) Sütunlar ayrı değişkenleri temsil eder\n",
    "# 2) Satırlar tekil gözlemleri temsil eder\n",
    "# 3) Her bir gözlemsel birim bir tablo oluşturur"
   ]
  },
  {
   "cell_type": "code",
   "execution_count": 16,
   "metadata": {},
   "outputs": [],
   "source": [
    "# Dolayısıyla üstteki tablo bu prensiplere uymamaktadır. Çünkü sütunlar ayrı değişkenleri değil aynı değişkenin\n",
    "# farklı değerlerini temsil etmektedir. Dolayısıyla aslında verilerin şekli aşağıdaki gibi olmalıdır\n",
    "# Verilerimizi derli toplu hale getirmek için melt fonksiyonunu kullanıyoruz, bu işleme ise melting deniyor\n",
    "# id_vars ile sabit kalmasıın istediğimiz, value_vars ile birleştirmek istediğimiz sütunları seçiyoruz"
   ]
  },
  {
   "cell_type": "code",
   "execution_count": 15,
   "metadata": {},
   "outputs": [
    {
     "name": "stdout",
     "output_type": "stream",
     "text": [
      "     name    treatment  result\n",
      "0  Daniel  treatment a     NaN\n",
      "1    John  treatment a    12.0\n",
      "2    Jane  treatment a    24.0\n",
      "3  Daniel  treatment b    42.0\n",
      "4    John  treatment b    31.0\n",
      "5    Jane  treatment b    27.0\n"
     ]
    }
   ],
   "source": [
    "df = pd.melt(frame=df, id_vars='name', value_vars=['treatment a', 'treatment b'],\n",
    "             var_name='treatment', value_name='result')\n",
    "print(df)"
   ]
  },
  {
   "cell_type": "code",
   "execution_count": 17,
   "metadata": {},
   "outputs": [],
   "source": [
    "# İlk bakışta bu format kullanışsız gelebilir. Fakat raporlama için ve analiz için daha iyi olan formatlar vardır\n",
    "# Verileri temizleme aşamasında derli toplu hale getirerek yaygın karşılaşılan veri problemlerini elimine edebiliriz\n",
    "# ve gerektiğinde hızlıca verileri farklı formatlara dönüştürebiliriz"
   ]
  },
  {
   "cell_type": "code",
   "execution_count": 19,
   "metadata": {},
   "outputs": [],
   "source": [
    "# Farklı süreçlerde farklı veri şekillerine ihtiyaç duyduğumuzdan melting işlemini tersine çevirebiliriz\n",
    "# Melting işleminde sütunları tek bir sütuna çeviriyorduk. Tersini yapmak için ise satırlardaki her bir unique\n",
    "# değeri sütunlara dönüştürürüz. Bu işlem pivoting olarak bilinir. Bu şekilde analize elverişli bir şekilden\n",
    "# raporlamaya elverişli bir şekle dönebiliriz ve ya eğer satırlar bireysel gözlemleri temsil etmiyorsa özellikle\n",
    "# sütunlarda birden fazla değişken tutuluyorsa pivoting yapabiliriz"
   ]
  },
  {
   "cell_type": "code",
   "execution_count": 20,
   "metadata": {},
   "outputs": [
    {
     "name": "stdout",
     "output_type": "stream",
     "text": [
      "         date element  value\n",
      "0  2010-01-30    tmax   27.8\n",
      "1  2010-01-30    tmin   14.5\n",
      "2  2010-02-02    tmax   27.3\n",
      "3  2010-02-02    tmin   14.4\n"
     ]
    }
   ],
   "source": [
    "data = {'date':['2010-01-30', '2010-01-30', '2010-02-02', '2010-02-02'],\n",
    "        'element':['tmax', 'tmin', 'tmax', 'tmin'],\n",
    "        'value':[27.8, 14.5, 27.3, 14.4]}\n",
    "\n",
    "df = pd.DataFrame(data)\n",
    "print(df)"
   ]
  },
  {
   "cell_type": "code",
   "execution_count": 21,
   "metadata": {},
   "outputs": [],
   "source": [
    "# Yukarıdaki tabloda iki güne ait en yüksek ve en düşük sıcaklık değerleri bulunmaktadır\n",
    "# En yüksek ve en düşük sıcaklık değerleri farklı satırlarda raporlandığı için satırlarda tekrarlanmalar oluşmuş\n",
    "# Oysa biz her farklı günün farklı bir gözlem olmasını ve satırlarda her bir gözlemin tutulmasını istiyoruz\n",
    "# Verileri tekrar derli toplu bir formatta tutmak için pivot metodunu kullanacağız"
   ]
  },
  {
   "cell_type": "code",
   "execution_count": 22,
   "metadata": {},
   "outputs": [
    {
     "name": "stdout",
     "output_type": "stream",
     "text": [
      "element     tmax  tmin\n",
      "date                  \n",
      "2010-01-30  27.8  14.5\n",
      "2010-02-02  27.3  14.4\n"
     ]
    }
   ],
   "source": [
    "df_tidy = df.pivot(index='date', columns='element', values='value')\n",
    "print(df_tidy)"
   ]
  },
  {
   "cell_type": "code",
   "execution_count": 23,
   "metadata": {},
   "outputs": [],
   "source": [
    "# Index argümanı ile sabit tutacağımız sütunu, columns argümanı ile pivot yapacağımız sütunları ve values\n",
    "# argümanı ile yeni oluşturulacak sütunlara değerleri sağlayacak olan sütunları belirleriz\n",
    "# Eğer tekrarlamalı değerler olursa pivot fonksiyonu çalışmaz. Bu durumda pivot_table metodunu kullanmalıyız\n",
    "# Birden fazla index bulunduğunda pivot işlemi sonucunda indexlerden biri gruplanabilir, bu durumda reset_index\n",
    "# metodu ile grupları ayırabiliriz"
   ]
  },
  {
   "cell_type": "code",
   "execution_count": 24,
   "metadata": {},
   "outputs": [
    {
     "name": "stdout",
     "output_type": "stream",
     "text": [
      "         date element  value\n",
      "0  2010-01-30    tmax   27.8\n",
      "1  2010-01-30    tmin   14.5\n",
      "2  2010-02-02    tmax   27.3\n",
      "3  2010-02-02    tmin   14.4\n",
      "4  2010-02-02    tmin   13.8\n"
     ]
    }
   ],
   "source": [
    "data = {'date':['2010-01-30', '2010-01-30', '2010-02-02', '2010-02-02', '2010-02-02'],\n",
    "        'element':['tmax', 'tmin', 'tmax', 'tmin', 'tmin'],\n",
    "        'value':[27.8, 14.5, 27.3, 14.4, 13.8]}\n",
    "\n",
    "df = pd.DataFrame(data)\n",
    "print(df)"
   ]
  },
  {
   "cell_type": "code",
   "execution_count": 26,
   "metadata": {},
   "outputs": [
    {
     "name": "stdout",
     "output_type": "stream",
     "text": [
      "element     tmax  tmin\n",
      "date                  \n",
      "2010-01-30  27.8  14.5\n",
      "2010-02-02  27.3  14.1\n"
     ]
    }
   ],
   "source": [
    "import numpy as np\n",
    "\n",
    "df_tidy = df.pivot_table(index='date', columns='element', values='value', aggfunc=np.mean)\n",
    "print(df_tidy)"
   ]
  },
  {
   "cell_type": "code",
   "execution_count": 27,
   "metadata": {},
   "outputs": [],
   "source": [
    "# Bir diğer yaygın veri problemi sütunların birden fazla bilgi içermesidir"
   ]
  },
  {
   "cell_type": "code",
   "execution_count": 29,
   "metadata": {},
   "outputs": [
    {
     "name": "stdout",
     "output_type": "stream",
     "text": [
      "  country  year  m014  m1524\n",
      "0      AD  2000     0      0\n",
      "1      AE  2000     2      4\n",
      "2      AF  2000    52    228\n"
     ]
    }
   ],
   "source": [
    "data = {'country':['AD', 'AE', 'AF'], 'year':[2000, 2000, 2000], 'm014':[0, 2, 52], 'm1524':[0, 4, 228]}\n",
    "df = pd.DataFrame(data)\n",
    "print(df)"
   ]
  },
  {
   "cell_type": "code",
   "execution_count": 30,
   "metadata": {},
   "outputs": [],
   "source": [
    "# Yukarıdaki tabloda cinsiyet ve yaş bilgilerinin aynı sütunlarda bulunduğu görülüyor\n",
    "# m014 0-14 yaş aralığındaki erkekler anlamına gelirken m1524 15-24 yaş aralığındaki erkekler anlamına geliyor\n",
    "# Dolayısıyla yaş ve cinsiyet sütunları birbirinden ayrılmalıdır. İlk olarak melt işlemi ile yaş ve cinsiyet\n",
    "# sütunlarını aynı sütun içerisinde toplarız. Verileri raporlarken yine aynı format kullanılabilir fakat analiz\n",
    "# esnasında değişkenlerin ayrılması daha elverişlidir. Örneğin yaş ve cinsiyeti predictor olarak kullanabiliriz\n",
    "# Dolayısıyla soruları cevaplayabilmek için gerektiğinde sütunları birleştirmeli ve ya ayırmalıyız"
   ]
  },
  {
   "cell_type": "code",
   "execution_count": 32,
   "metadata": {},
   "outputs": [
    {
     "name": "stdout",
     "output_type": "stream",
     "text": [
      "  country  year variable  value\n",
      "0      AD  2000     m014      0\n",
      "1      AE  2000     m014      2\n",
      "2      AF  2000     m014     52\n",
      "3      AD  2000    m1524      0\n",
      "4      AE  2000    m1524      4\n",
      "5      AF  2000    m1524    228\n"
     ]
    }
   ],
   "source": [
    "df = pd.melt(frame=df, id_vars=['country', 'year'])\n",
    "print(df)"
   ]
  },
  {
   "cell_type": "code",
   "execution_count": 33,
   "metadata": {},
   "outputs": [],
   "source": [
    "# Ardından cinsiyet bilgisini cinsiyet-yaş sütunundan parse ederiz\n",
    "# Bunun için sütun üzerinde str metodunu kullanarak sütuna bir string gibi davranabiliriz\n",
    "# Dolayısıyla her türlü string metodunu uygulayabiliriz, split vs..."
   ]
  },
  {
   "cell_type": "code",
   "execution_count": 34,
   "metadata": {},
   "outputs": [
    {
     "name": "stdout",
     "output_type": "stream",
     "text": [
      "  country  year variable  value sex\n",
      "0      AD  2000     m014      0   m\n",
      "1      AE  2000     m014      2   m\n",
      "2      AF  2000     m014     52   m\n",
      "3      AD  2000    m1524      0   m\n",
      "4      AE  2000    m1524      4   m\n",
      "5      AF  2000    m1524    228   m\n"
     ]
    }
   ],
   "source": [
    "df['sex'] = df.variable.str[0]\n",
    "print(df)"
   ]
  }
 ],
 "metadata": {
  "kernelspec": {
   "display_name": "Python 3",
   "language": "python",
   "name": "python3"
  },
  "language_info": {
   "codemirror_mode": {
    "name": "ipython",
    "version": 3
   },
   "file_extension": ".py",
   "mimetype": "text/x-python",
   "name": "python",
   "nbconvert_exporter": "python",
   "pygments_lexer": "ipython3",
   "version": "3.6.8"
  }
 },
 "nbformat": 4,
 "nbformat_minor": 2
}
