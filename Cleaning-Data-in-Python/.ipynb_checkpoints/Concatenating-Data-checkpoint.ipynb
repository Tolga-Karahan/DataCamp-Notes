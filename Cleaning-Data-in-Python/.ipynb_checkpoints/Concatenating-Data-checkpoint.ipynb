{
 "cells": [
  {
   "cell_type": "code",
   "execution_count": 1,
   "metadata": {},
   "outputs": [],
   "source": [
    "# Veriler her zaman tek bir büyük dosya halinde gelmeyebilir. Dolayısıyla birleştirmemiz gerekebilir"
   ]
  },
  {
   "cell_type": "code",
   "execution_count": 2,
   "metadata": {},
   "outputs": [
    {
     "name": "stdout",
     "output_type": "stream",
     "text": [
      "         date element  value\n",
      "0  2010-01-30    tmax   27.8\n",
      "1  2010-01-30    tmin   14.5\n",
      "         date element  value\n",
      "0  2010-02-02    tmax   27.3\n",
      "1  2010-02-02    tmin   14.4\n"
     ]
    }
   ],
   "source": [
    "import pandas as pd\n",
    "\n",
    "data1={'date':['2010-01-30', '2010-01-30'], 'element':['tmax', 'tmin'], 'value':[27.8, 14.5]}\n",
    "data2={'date':['2010-02-02', '2010-02-02'], 'element':['tmax', 'tmin'], 'value':[27.3, 14.4]}\n",
    "\n",
    "df1=pd.DataFrame(data1)\n",
    "df2=pd.DataFrame(data2)\n",
    "print(df1)\n",
    "print(df2)"
   ]
  },
  {
   "cell_type": "code",
   "execution_count": 3,
   "metadata": {},
   "outputs": [],
   "source": [
    "# concat fonksiyonu ile dataframeleri birleştirebiliriz"
   ]
  },
  {
   "cell_type": "code",
   "execution_count": 4,
   "metadata": {},
   "outputs": [
    {
     "name": "stdout",
     "output_type": "stream",
     "text": [
      "         date element  value\n",
      "0  2010-01-30    tmax   27.8\n",
      "1  2010-01-30    tmin   14.5\n",
      "0  2010-02-02    tmax   27.3\n",
      "1  2010-02-02    tmin   14.4\n"
     ]
    }
   ],
   "source": [
    "df=pd.concat([df1, df2])\n",
    "print(df)"
   ]
  },
  {
   "cell_type": "code",
   "execution_count": 5,
   "metadata": {},
   "outputs": [],
   "source": [
    "# Birleştirdiğimiz dataframe de satır indexlerinin aynı olduğunu görüyoruz\n",
    "# Bu durum indeksleme yaparken sıkıntılara yol açar"
   ]
  },
  {
   "cell_type": "code",
   "execution_count": 7,
   "metadata": {},
   "outputs": [
    {
     "name": "stdout",
     "output_type": "stream",
     "text": [
      "         date element  value\n",
      "0  2010-01-30    tmax   27.8\n",
      "0  2010-02-02    tmax   27.3\n"
     ]
    }
   ],
   "source": [
    "print(df.loc[0,:])"
   ]
  },
  {
   "cell_type": "code",
   "execution_count": 8,
   "metadata": {},
   "outputs": [],
   "source": [
    "# Dataframelerin birleştirilmesinden oluşan dataframede indexlerin sıralı olmasını isteyebiliriz\n",
    "# Bunun için concat fonksiyonunun ignore_index parametresine True geçirmeliyiz"
   ]
  },
  {
   "cell_type": "code",
   "execution_count": 9,
   "metadata": {},
   "outputs": [
    {
     "name": "stdout",
     "output_type": "stream",
     "text": [
      "         date element  value\n",
      "0  2010-01-30    tmax   27.8\n",
      "1  2010-01-30    tmin   14.5\n",
      "2  2010-02-02    tmax   27.3\n",
      "3  2010-02-02    tmin   14.4\n"
     ]
    }
   ],
   "source": [
    "df = pd.concat([df1, df2], ignore_index=True)\n",
    "print(df)"
   ]
  },
  {
   "cell_type": "code",
   "execution_count": null,
   "metadata": {},
   "outputs": [],
   "source": []
  }
 ],
 "metadata": {
  "kernelspec": {
   "display_name": "Python 3",
   "language": "python",
   "name": "python3"
  },
  "language_info": {
   "codemirror_mode": {
    "name": "ipython",
    "version": 3
   },
   "file_extension": ".py",
   "mimetype": "text/x-python",
   "name": "python",
   "nbconvert_exporter": "python",
   "pygments_lexer": "ipython3",
   "version": "3.6.8"
  }
 },
 "nbformat": 4,
 "nbformat_minor": 2
}
