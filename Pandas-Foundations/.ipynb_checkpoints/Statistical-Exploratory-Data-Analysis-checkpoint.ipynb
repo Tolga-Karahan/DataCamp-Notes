{
 "cells": [
  {
   "cell_type": "code",
   "execution_count": 1,
   "metadata": {},
   "outputs": [],
   "source": [
    "# DataFrame in describe metodu ile bir istatistik özeti görebiliriz"
   ]
  },
  {
   "cell_type": "code",
   "execution_count": 17,
   "metadata": {},
   "outputs": [
    {
     "name": "stdout",
     "output_type": "stream",
     "text": [
      "   sepal_length  sepal_width  petal_length  petal_width        class\n",
      "0           5.1          3.5           1.4          0.2  Iris-setosa\n",
      "1           4.9          3.0           1.4          0.2  Iris-setosa\n",
      "2           4.7          3.2           1.3          0.2  Iris-setosa\n",
      "3           4.6          3.1           1.5          0.2  Iris-setosa\n",
      "4           5.0          3.6           1.4          0.2  Iris-setosa\n"
     ]
    }
   ],
   "source": [
    "import pandas as pd\n",
    "\n",
    "columns = ['sepal_length', 'sepal_width', 'petal_length', 'petal_width', 'class']\n",
    "df = pd.read_csv('iris.csv', names=columns)\n",
    "print(df.head())"
   ]
  },
  {
   "cell_type": "code",
   "execution_count": 19,
   "metadata": {},
   "outputs": [
    {
     "name": "stdout",
     "output_type": "stream",
     "text": [
      "       sepal_length  sepal_width  petal_length  petal_width\n",
      "count    150.000000   150.000000    150.000000   150.000000\n",
      "mean       5.843333     3.054000      3.758667     1.198667\n",
      "std        0.828066     0.433594      1.764420     0.763161\n",
      "min        4.300000     2.000000      1.000000     0.100000\n",
      "25%        5.100000     2.800000      1.600000     0.300000\n",
      "50%        5.800000     3.000000      4.350000     1.300000\n",
      "75%        6.400000     3.300000      5.100000     1.800000\n",
      "max        7.900000     4.400000      6.900000     2.500000\n"
     ]
    }
   ],
   "source": [
    "print(df.describe())"
   ]
  },
  {
   "cell_type": "code",
   "execution_count": 5,
   "metadata": {},
   "outputs": [],
   "source": [
    "# count metodu çağırıldığı sütun üzerinde null olmayan girdi sayısını verir\n",
    "# count metodunu tüm DataFrame üzerinde çağırırsak her bir sütundaki null olmayan girdileri tutan bir Series verir"
   ]
  },
  {
   "cell_type": "code",
   "execution_count": 18,
   "metadata": {},
   "outputs": [
    {
     "name": "stdout",
     "output_type": "stream",
     "text": [
      "150\n",
      "sepal_length    150\n",
      "sepal_width     150\n",
      "petal_length    150\n",
      "petal_width     150\n",
      "class           150\n",
      "dtype: int64\n"
     ]
    }
   ],
   "source": [
    "print(df['sepal_length'].count())\n",
    "print(df.count())"
   ]
  },
  {
   "cell_type": "code",
   "execution_count": 20,
   "metadata": {},
   "outputs": [],
   "source": [
    "# mean metodu aynı şekilde çağırıldığı sütun üzerinde null olmayan girdilerin ortalamasını verir\n",
    "# Tüm dataframe üzerinde çağırırsak ortalamaları tutan bir Series döndürür\n",
    "# İstatistiksel metodların hepsi null değerleri gözardı eder\n",
    "# İstatistiksel metodların hangi eksende hesap yapacağını axis parametresi ile belirtebiliriz"
   ]
  },
  {
   "cell_type": "code",
   "execution_count": 21,
   "metadata": {},
   "outputs": [
    {
     "name": "stdout",
     "output_type": "stream",
     "text": [
      "3.0540000000000007\n",
      "sepal_length    5.843333\n",
      "sepal_width     3.054000\n",
      "petal_length    3.758667\n",
      "petal_width     1.198667\n",
      "dtype: float64\n"
     ]
    }
   ],
   "source": [
    "print(df['sepal_width'].mean())\n",
    "print(df.mean())"
   ]
  },
  {
   "cell_type": "code",
   "execution_count": 22,
   "metadata": {},
   "outputs": [],
   "source": [
    "# std metodu sütunlar üzerinden null olmayan girdilerin standart sapmasını hesaplar\n",
    "# Tüm DataFrame için kullanırsak yine bir Series nesnesi elde ederiz"
   ]
  },
  {
   "cell_type": "code",
   "execution_count": 23,
   "metadata": {},
   "outputs": [
    {
     "name": "stdout",
     "output_type": "stream",
     "text": [
      "1.7644204199522617\n",
      "sepal_length    0.828066\n",
      "sepal_width     0.433594\n",
      "petal_length    1.764420\n",
      "petal_width     0.763161\n",
      "dtype: float64\n"
     ]
    }
   ],
   "source": [
    "print(df['petal_length'].std())\n",
    "print(df.std())"
   ]
  },
  {
   "cell_type": "code",
   "execution_count": 24,
   "metadata": {},
   "outputs": [],
   "source": [
    "# mean merkezi istatistiği ölçmek için tek yöntem değildir. Medyan da kullanabiliriz"
   ]
  },
  {
   "cell_type": "code",
   "execution_count": 25,
   "metadata": {},
   "outputs": [
    {
     "name": "stdout",
     "output_type": "stream",
     "text": [
      "sepal_length    5.80\n",
      "sepal_width     3.00\n",
      "petal_length    4.35\n",
      "petal_width     1.30\n",
      "dtype: float64\n"
     ]
    }
   ],
   "source": [
    "print(df.median())"
   ]
  },
  {
   "cell_type": "code",
   "execution_count": 26,
   "metadata": {},
   "outputs": [],
   "source": [
    "# Medyanlara baktığımız zaman 75 tane örneğin sepal genişliğinin 3 ve altında olduğunu görüyoruz"
   ]
  },
  {
   "cell_type": "code",
   "execution_count": 27,
   "metadata": {},
   "outputs": [],
   "source": [
    "# Medyan özel bir quantiledır. q, 0 ve 1 arasında değerler almak üzere q. quantile veri kümesini ikiye böler\n",
    "# İlk küme %q luk daha küçük olan gözlemleri diğer küme ise daha büyük olarak gözlemleri içerir\n",
    "# Medyan 0.5 ve ya veri kümesinin %50 sidir"
   ]
  },
  {
   "cell_type": "code",
   "execution_count": 28,
   "metadata": {},
   "outputs": [],
   "source": [
    "# quantile metodunu kullanarak farklı quantile değerlerini hesaplayabiliriz"
   ]
  },
  {
   "cell_type": "code",
   "execution_count": 30,
   "metadata": {},
   "outputs": [
    {
     "name": "stdout",
     "output_type": "stream",
     "text": [
      "1.8\n",
      "sepal_length    6.3\n",
      "sepal_width     3.2\n",
      "petal_length    5.0\n",
      "petal_width     1.8\n",
      "Name: 0.7, dtype: float64\n"
     ]
    }
   ],
   "source": [
    "print(df['petal_width'].quantile(0.7))\n",
    "print(df.quantile(0.7))"
   ]
  },
  {
   "cell_type": "code",
   "execution_count": 31,
   "metadata": {},
   "outputs": [],
   "source": [
    "# quantile metoduna bir liste vererek birden fazla quantile ı hesaplayabiliriz"
   ]
  },
  {
   "cell_type": "code",
   "execution_count": 32,
   "metadata": {},
   "outputs": [
    {
     "name": "stdout",
     "output_type": "stream",
     "text": [
      "0.25    5.1\n",
      "0.40    5.6\n",
      "Name: sepal_length, dtype: float64\n"
     ]
    }
   ],
   "source": [
    "print(df['sepal_length'].quantile([0.25, 0.4]))"
   ]
  },
  {
   "cell_type": "code",
   "execution_count": 33,
   "metadata": {},
   "outputs": [],
   "source": [
    "# quantile metoduna bir list vererek interquantile-range(iqr)i hesaplayabiliriz\n",
    "# Örneğin 0.25 ve 0.75 quantilelar arasında kalan değerler veri kümesinin %50sini oluşturur"
   ]
  },
  {
   "cell_type": "code",
   "execution_count": 34,
   "metadata": {},
   "outputs": [],
   "source": [
    "# Bir box plot çizdirdiğimizde en altta ve üstte bulunan yatay çizgiler minimum ve maksimum değerleri verir\n",
    "# Kutunun alt sınırı one-quarter(0.25) quantile, kutunun ortasındaki yatay çizgi medyan, kutunun üst sınırı ise\n",
    "# three-quarter(0.75) quantile değerini verir"
   ]
  },
  {
   "cell_type": "code",
   "execution_count": 36,
   "metadata": {},
   "outputs": [],
   "source": [
    "# DataFrame satır indekslerine sahip olduğu zaman DataFrame üzerinde istatistik metodları ile elde ettiğimiz\n",
    "# Serieslerin grafiklerini çizdirdiğimizde x ekseninde otomatikmen bu indeksler yer alır"
   ]
  },
  {
   "cell_type": "code",
   "execution_count": 38,
   "metadata": {},
   "outputs": [
    {
     "data": {
      "image/png": "[encoded data removed]",
      "text/plain": [
       "<Figure size 432x288 with 1 Axes>"
      ]
     },
     "metadata": {
      "needs_background": "light"
     },
     "output_type": "display_data"
    }
   ],
   "source": [
    "import matplotlib.pyplot as plt\n",
    "\n",
    "mean = df.mean(axis='columns')\n",
    "mean.plot()\n",
    "plt.show()"
   ]
  },
  {
   "cell_type": "code",
   "execution_count": 39,
   "metadata": {},
   "outputs": [],
   "source": [
    "# Tüm dataframe üzerinde describe metodu ile istatistik hesaplayınca tür sınıflarına ait string veriler\n",
    "# hesaba katılmadı. Bu sütun üzerinde ayrıca describe metodunu kullanınca farklı bilgiler elde ederiz\n",
    "# Bu bilgilerden count yine girdi sayısını vermekte, unique ise kaç tane kategori bulunduğunu göstermektedir\n",
    "# top en sık karşılaşılan kategoriyi freq ise bu kategoriye ait kaç tane girdi bulunduğunu gösterir"
   ]
  },
  {
   "cell_type": "code",
   "execution_count": 40,
   "metadata": {},
   "outputs": [
    {
     "name": "stdout",
     "output_type": "stream",
     "text": [
      "count             150\n",
      "unique              3\n",
      "top       Iris-setosa\n",
      "freq               50\n",
      "Name: class, dtype: object\n"
     ]
    }
   ],
   "source": [
    "print(df['class'].describe())"
   ]
  },
  {
   "cell_type": "code",
   "execution_count": 41,
   "metadata": {},
   "outputs": [],
   "source": [
    "# Kategorik sütunlardaki farklı kategorileri(ve ya factor) unique metodu ile görebiliriz\n",
    "# Böylece her bir kategori üzerinde ayrı olarak EDA uygulayabiliriz, bunun için filtreleme kullanacağız"
   ]
  },
  {
   "cell_type": "code",
   "execution_count": 42,
   "metadata": {},
   "outputs": [
    {
     "name": "stdout",
     "output_type": "stream",
     "text": [
      "['Iris-setosa' 'Iris-versicolor' 'Iris-virginica']\n"
     ]
    }
   ],
   "source": [
    "print(df['class'].unique())"
   ]
  },
  {
   "cell_type": "code",
   "execution_count": 43,
   "metadata": {},
   "outputs": [],
   "source": [
    "setosa_indices = df['class'] == 'Iris-setosa'\n",
    "versicolor_indices = df['class'] == 'Iris-versicolor'\n",
    "virginica_indices = df['class'] == 'Iris-virginica'\n",
    "\n",
    "df_setosa = df.loc[setosa_indices, :]\n",
    "df_versicolor = df.loc[versicolor_indices, :]\n",
    "df_virginica = df.loc[virginica_indices, :]"
   ]
  },
  {
   "cell_type": "code",
   "execution_count": 44,
   "metadata": {},
   "outputs": [],
   "source": [
    "# Oluşturduğumuz DataFramelerin tek bir kategori içerdiğini doğrulayalım"
   ]
  },
  {
   "cell_type": "code",
   "execution_count": 45,
   "metadata": {},
   "outputs": [
    {
     "name": "stdout",
     "output_type": "stream",
     "text": [
      "['Iris-setosa']\n",
      "['Iris-versicolor']\n",
      "['Iris-virginica']\n"
     ]
    }
   ],
   "source": [
    "print(df_setosa['class'].unique())\n",
    "print(df_versicolor['class'].unique())\n",
    "print(df_virginica['class'].unique())"
   ]
  },
  {
   "cell_type": "code",
   "execution_count": 47,
   "metadata": {},
   "outputs": [
    {
     "data": {
      "image/png": "[encoded data removed]",
      "text/plain": [
       "<Figure size 432x288 with 4 Axes>"
      ]
     },
     "metadata": {
      "needs_background": "light"
     },
     "output_type": "display_data"
    }
   ],
   "source": [
    "df.plot(kind='hist', bins=50, subplots=True)\n",
    "plt.show()"
   ]
  },
  {
   "cell_type": "code",
   "execution_count": null,
   "metadata": {},
   "outputs": [],
   "source": [
    "# Kategorileri ayırarak her bir kategori için histogramlar çizdirebiliriz"
   ]
  },
  {
   "cell_type": "code",
   "execution_count": 74,
   "metadata": {},
   "outputs": [
    {
     "data": {
      "image/png": "[encoded data removed]",
      "text/plain": [
       "<Figure size 720x360 with 3 Axes>"
      ]
     },
     "metadata": {
      "needs_background": "light"
     },
     "output_type": "display_data"
    }
   ],
   "source": [
    "fig, axes = plt.subplots(nrows=1, ncols=3)\n",
    "\n",
    "df_setosa.plot(ax=axes[0], kind='hist', bins=50, figsize=(10, 10))\n",
    "plt.title('Setosa')\n",
    "plt.xlabel('[cm]')\n",
    "\n",
    "df_versicolor.plot(ax=axes[1], kind='hist', bins=50, figsize=(10, 10))\n",
    "plt.title('Versicolor')\n",
    "plt.xlabel('[cm]')\n",
    "\n",
    "df_virginica.plot(ax=axes[2], kind='hist', bins=50, figsize=(10, 5))\n",
    "plt.title('Virginica')\n",
    "plt.xlabel('[cm]')\n",
    "plt.show()"
   ]
  },
  {
   "cell_type": "code",
   "execution_count": 53,
   "metadata": {},
   "outputs": [],
   "source": [
    "# Tüm veri kümesi üzerinden describe metodunu kullanmak nicel(quantitative) hatalara sebep olabilir\n",
    "# Bu hataları hesaplayabiliriz"
   ]
  },
  {
   "cell_type": "code",
   "execution_count": 65,
   "metadata": {},
   "outputs": [],
   "source": [
    "import numpy as np\n",
    "\n",
    "describe_all = df.describe()\n",
    "describe_setosa = df_setosa.describe()\n",
    "describe_versicolor = df_versicolor.describe()\n",
    "describe_virginica = df_virginica.describe()\n",
    "\n",
    "error_setosa = 100 * np.abs(describe_setosa - describe_all)\n",
    "error_versicolor = 100 * np.abs(describe_versicolor - describe_all)\n",
    "error_virginica = 100 * np.abs(describe_virginica - describe_all) \n",
    "\n",
    "error_setosa /= describe_setosa\n",
    "error_versicolor /= describe_versicolor\n",
    "error_virginica /= describe_virginica"
   ]
  },
  {
   "cell_type": "code",
   "execution_count": 66,
   "metadata": {},
   "outputs": [
    {
     "name": "stdout",
     "output_type": "stream",
     "text": [
      "       sepal_length  sepal_width  petal_length  petal_width\n",
      "count    200.000000   200.000000    200.000000   200.000000\n",
      "mean      16.726595    10.649503    156.739526   391.256831\n",
      "std      134.919250    13.796994    916.891608   611.840574\n",
      "min        0.000000    13.043478      0.000000     0.000000\n",
      "25%        6.250000    10.400000     14.285714    50.000000\n",
      "50%       16.000000    11.764706    190.000000   550.000000\n",
      "75%       23.076923    10.204082    223.809524   500.000000\n",
      "max       36.206897     0.000000    263.157895   316.666667\n"
     ]
    }
   ],
   "source": [
    "print(error_setosa)"
   ]
  }
 ],
 "metadata": {
  "kernelspec": {
   "display_name": "Python 3",
   "language": "python",
   "name": "python3"
  },
  "language_info": {
   "codemirror_mode": {
    "name": "ipython",
    "version": 3
   },
   "file_extension": ".py",
   "mimetype": "text/x-python",
   "name": "python",
   "nbconvert_exporter": "python",
   "pygments_lexer": "ipython3",
   "version": "3.6.8"
  }
 },
 "nbformat": 4,
 "nbformat_minor": 2
}
