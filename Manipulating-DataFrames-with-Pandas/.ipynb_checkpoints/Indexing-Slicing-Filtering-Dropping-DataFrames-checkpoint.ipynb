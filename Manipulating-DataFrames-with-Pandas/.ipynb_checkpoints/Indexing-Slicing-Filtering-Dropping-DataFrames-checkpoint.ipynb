{
 "cells": [
  {
   "cell_type": "code",
   "execution_count": 2,
   "metadata": {},
   "outputs": [
    {
     "name": "stdout",
     "output_type": "stream",
     "text": [
      "                   country   capital    area  population\n",
      "Country Code                                            \n",
      "BR                  brazil  brasilia   8.516      200.40\n",
      "RU                  russia    moscow  17.100      143.50\n",
      "IN                   india     delhi   3.286     1252.00\n",
      "CH                   china   beijing   9.597     1357.00\n",
      "SA            south africa  pretoria   1.221       52.98\n"
     ]
    }
   ],
   "source": [
    "import pandas as pd\n",
    "\n",
    "brics = {'Country Code': ['BR', 'RU', 'IN', 'CH', 'SA'],\n",
    "         'country':['brazil', 'russia', 'india', 'china', 'south africa'],\n",
    "         'capital':['brasilia', 'moscow', 'delhi', 'beijing', 'pretoria'],\n",
    "         'area':[8.516, 17.10, 3.286, 9.597, 1.221],\n",
    "         'population':[200.4, 143.5, 1252, 1357, 52.98]}\n",
    "\n",
    "brics_df = pd.DataFrame(brics).set_index('Country Code')\n",
    "print(brics_df)"
   ]
  },
  {
   "cell_type": "code",
   "execution_count": 3,
   "metadata": {},
   "outputs": [],
   "source": [
    "# DataFrame'i köşeli parantezler ile indekslerken önce sütun etiketi sonra satır etiketi kullanırız"
   ]
  },
  {
   "cell_type": "code",
   "execution_count": 4,
   "metadata": {},
   "outputs": [
    {
     "name": "stdout",
     "output_type": "stream",
     "text": [
      "17.1\n",
      "You must index column label first!\n"
     ]
    }
   ],
   "source": [
    "try:\n",
    "    print(brics_df['area']['RU'])\n",
    "    print(brics_df['IN']['population'])\n",
    "except:\n",
    "    print('You must index column label first!')"
   ]
  },
  {
   "cell_type": "code",
   "execution_count": 5,
   "metadata": {},
   "outputs": [
    {
     "name": "stdout",
     "output_type": "stream",
     "text": [
      "17.1\n"
     ]
    }
   ],
   "source": [
    "# Sütun içeriğine Numpy listesi olarak eriştikten sonra da satır etiketlerini kullanabiliriz\n",
    "print(brics_df.area['RU'])"
   ]
  },
  {
   "cell_type": "code",
   "execution_count": 6,
   "metadata": {},
   "outputs": [],
   "source": [
    "# DataFrame'i daha efektif indekslemek için accessorları kullanmalıyız\n",
    "# loc accessor etiket tabanlıdır, iloc accessor indeks tabanlıdır"
   ]
  },
  {
   "cell_type": "code",
   "execution_count": null,
   "metadata": {},
   "outputs": [],
   "source": [
    "# loc accessor ile slicing yapıldığında sağdaki etikette dahil olur: 'capital':'population'"
   ]
  },
  {
   "cell_type": "code",
   "execution_count": 20,
   "metadata": {},
   "outputs": [
    {
     "name": "stdout",
     "output_type": "stream",
     "text": [
      "             capital  area  population\n",
      "Country Code                          \n",
      "RU            moscow  17.1       143.5\n"
     ]
    }
   ],
   "source": [
    "print(brics_df.loc[['RU'], 'capital':'population'])"
   ]
  },
  {
   "cell_type": "code",
   "execution_count": 42,
   "metadata": {},
   "outputs": [
    {
     "name": "stdout",
     "output_type": "stream",
     "text": [
      "             capital\n",
      "Country Code        \n",
      "RU            moscow\n"
     ]
    }
   ],
   "source": [
    "print(brics_df.iloc[[1],1:2])"
   ]
  },
  {
   "cell_type": "code",
   "execution_count": null,
   "metadata": {},
   "outputs": [],
   "source": [
    "# Her iki accessor ile de listeleri kullanabiliriz"
   ]
  },
  {
   "cell_type": "code",
   "execution_count": 45,
   "metadata": {},
   "outputs": [
    {
     "name": "stdout",
     "output_type": "stream",
     "text": [
      "              population    area\n",
      "Country Code                    \n",
      "RU                 143.5  17.100\n",
      "IN                1252.0   3.286\n"
     ]
    }
   ],
   "source": [
    "print(brics_df.loc[['RU','IN'], ['population', 'area']])"
   ]
  },
  {
   "cell_type": "code",
   "execution_count": null,
   "metadata": {},
   "outputs": [],
   "source": [
    "# Satırları tersine de indeksleyebiliriz. Bunun için üçüncü bir argüman olarak step i -1 seçeriz"
   ]
  },
  {
   "cell_type": "code",
   "execution_count": 51,
   "metadata": {},
   "outputs": [
    {
     "name": "stdout",
     "output_type": "stream",
     "text": [
      "             country capital    area  population\n",
      "Country Code                                    \n",
      "IN             india   delhi   3.286      1252.0\n",
      "RU            russia  moscow  17.100       143.5\n"
     ]
    }
   ],
   "source": [
    "print(brics_df.loc['IN':'RU':-1])"
   ]
  },
  {
   "cell_type": "code",
   "execution_count": 52,
   "metadata": {},
   "outputs": [],
   "source": [
    "# Filtreleme için boolean serilerini kullanabiliriz"
   ]
  },
  {
   "cell_type": "code",
   "execution_count": 53,
   "metadata": {},
   "outputs": [
    {
     "name": "stdout",
     "output_type": "stream",
     "text": [
      "Country Code\n",
      "BR     True\n",
      "RU     True\n",
      "IN    False\n",
      "CH    False\n",
      "SA     True\n",
      "Name: population, dtype: bool\n"
     ]
    }
   ],
   "source": [
    "print(brics_df.population < 300.00)"
   ]
  },
  {
   "cell_type": "code",
   "execution_count": 54,
   "metadata": {},
   "outputs": [],
   "source": [
    "# Filtreleri lojik operatörler ile birleştirebiliriz"
   ]
  },
  {
   "cell_type": "code",
   "execution_count": 56,
   "metadata": {},
   "outputs": [
    {
     "name": "stdout",
     "output_type": "stream",
     "text": [
      "Country Code\n",
      "BR     True\n",
      "RU     True\n",
      "IN    False\n",
      "CH    False\n",
      "SA    False\n",
      "Name: population, dtype: bool\n"
     ]
    }
   ],
   "source": [
    "print((brics_df.population > 100.00) & (brics_df.population < 300.00))"
   ]
  },
  {
   "cell_type": "code",
   "execution_count": 57,
   "metadata": {},
   "outputs": [],
   "source": [
    "# Slice yaparken NaN ve ya 0 değerleri dışlayabiliriz"
   ]
  },
  {
   "cell_type": "code",
   "execution_count": 58,
   "metadata": {},
   "outputs": [
    {
     "name": "stdout",
     "output_type": "stream",
     "text": [
      "                   country   capital    area  population  arbitrary\n",
      "Country Code                                                       \n",
      "BR                  brazil  brasilia   8.516      200.40        0.0\n",
      "RU                  russia    moscow  17.100      143.50        0.0\n",
      "IN                   india     delhi   3.286     1252.00       10.0\n",
      "CH                   china   beijing   9.597     1357.00        3.2\n",
      "SA            south africa  pretoria   1.221       52.98        7.8\n"
     ]
    }
   ],
   "source": [
    "df_with_zeros = brics_df.copy()\n",
    "df_with_zeros['arbitrary'] = [0, 0, 10, 3.2, 7.8]\n",
    "print(df_with_zeros)"
   ]
  },
  {
   "cell_type": "code",
   "execution_count": 59,
   "metadata": {},
   "outputs": [],
   "source": [
    "# 0 değeri içermeyen tüm sütunları şu şekilde seçebiliriz: df.loc[:,df.all()]"
   ]
  },
  {
   "cell_type": "code",
   "execution_count": 64,
   "metadata": {},
   "outputs": [
    {
     "data": {
      "text/html": [
       "<div>\n",
       "<style scoped>\n",
       "    .dataframe tbody tr th:only-of-type {\n",
       "        vertical-align: middle;\n",
       "    }\n",
       "\n",
       "    .dataframe tbody tr th {\n",
       "        vertical-align: top;\n",
       "    }\n",
       "\n",
       "    .dataframe thead th {\n",
       "        text-align: right;\n",
       "    }\n",
       "</style>\n",
       "<table border=\"1\" class=\"dataframe\">\n",
       "  <thead>\n",
       "    <tr style=\"text-align: right;\">\n",
       "      <th></th>\n",
       "      <th>country</th>\n",
       "      <th>capital</th>\n",
       "      <th>area</th>\n",
       "      <th>population</th>\n",
       "    </tr>\n",
       "    <tr>\n",
       "      <th>Country Code</th>\n",
       "      <th></th>\n",
       "      <th></th>\n",
       "      <th></th>\n",
       "      <th></th>\n",
       "    </tr>\n",
       "  </thead>\n",
       "  <tbody>\n",
       "    <tr>\n",
       "      <th>BR</th>\n",
       "      <td>brazil</td>\n",
       "      <td>brasilia</td>\n",
       "      <td>8.516</td>\n",
       "      <td>200.40</td>\n",
       "    </tr>\n",
       "    <tr>\n",
       "      <th>RU</th>\n",
       "      <td>russia</td>\n",
       "      <td>moscow</td>\n",
       "      <td>17.100</td>\n",
       "      <td>143.50</td>\n",
       "    </tr>\n",
       "    <tr>\n",
       "      <th>IN</th>\n",
       "      <td>india</td>\n",
       "      <td>delhi</td>\n",
       "      <td>3.286</td>\n",
       "      <td>1252.00</td>\n",
       "    </tr>\n",
       "    <tr>\n",
       "      <th>CH</th>\n",
       "      <td>china</td>\n",
       "      <td>beijing</td>\n",
       "      <td>9.597</td>\n",
       "      <td>1357.00</td>\n",
       "    </tr>\n",
       "    <tr>\n",
       "      <th>SA</th>\n",
       "      <td>south africa</td>\n",
       "      <td>pretoria</td>\n",
       "      <td>1.221</td>\n",
       "      <td>52.98</td>\n",
       "    </tr>\n",
       "  </tbody>\n",
       "</table>\n",
       "</div>"
      ],
      "text/plain": [
       "                   country   capital    area  population\n",
       "Country Code                                            \n",
       "BR                  brazil  brasilia   8.516      200.40\n",
       "RU                  russia    moscow  17.100      143.50\n",
       "IN                   india     delhi   3.286     1252.00\n",
       "CH                   china   beijing   9.597     1357.00\n",
       "SA            south africa  pretoria   1.221       52.98"
      ]
     },
     "execution_count": 64,
     "metadata": {},
     "output_type": "execute_result"
    }
   ],
   "source": [
    "df_with_zeros.loc[:,df_with_zeros.all()]"
   ]
  },
  {
   "cell_type": "code",
   "execution_count": 65,
   "metadata": {},
   "outputs": [],
   "source": [
    "# 0 olmayan herhangi bir değer içeren sütunları şu şekilde seçebiliriz: df.loc[:,df.any()]"
   ]
  },
  {
   "cell_type": "code",
   "execution_count": 67,
   "metadata": {},
   "outputs": [
    {
     "name": "stdout",
     "output_type": "stream",
     "text": [
      "                   country   capital    area  population  arbitrary  \\\n",
      "Country Code                                                          \n",
      "BR                  brazil  brasilia   8.516      200.40        0.0   \n",
      "RU                  russia    moscow  17.100      143.50        0.0   \n",
      "IN                   india     delhi   3.286     1252.00       10.0   \n",
      "CH                   china   beijing   9.597     1357.00        3.2   \n",
      "SA            south africa  pretoria   1.221       52.98        7.8   \n",
      "\n",
      "              arbitrary2  \n",
      "Country Code              \n",
      "BR                     0  \n",
      "RU                     0  \n",
      "IN                     0  \n",
      "CH                     0  \n",
      "SA                     0  \n"
     ]
    }
   ],
   "source": [
    "df_with_zeros['arbitrary2'] = 0\n",
    "print(df_with_zeros)"
   ]
  },
  {
   "cell_type": "code",
   "execution_count": 68,
   "metadata": {},
   "outputs": [
    {
     "name": "stdout",
     "output_type": "stream",
     "text": [
      "                   country   capital    area  population  arbitrary\n",
      "Country Code                                                       \n",
      "BR                  brazil  brasilia   8.516      200.40        0.0\n",
      "RU                  russia    moscow  17.100      143.50        0.0\n",
      "IN                   india     delhi   3.286     1252.00       10.0\n",
      "CH                   china   beijing   9.597     1357.00        3.2\n",
      "SA            south africa  pretoria   1.221       52.98        7.8\n"
     ]
    }
   ],
   "source": [
    "print(df_with_zeros.loc[:,df_with_zeros.any()])"
   ]
  },
  {
   "cell_type": "code",
   "execution_count": 69,
   "metadata": {},
   "outputs": [],
   "source": [
    "# Herhangi bir sayıda NaN içeren sütunları şu şekilde seçeriz: df.isnull().any()"
   ]
  },
  {
   "cell_type": "code",
   "execution_count": 74,
   "metadata": {},
   "outputs": [
    {
     "name": "stdout",
     "output_type": "stream",
     "text": [
      "                   country   capital    area  population    col1  col2\n",
      "Country Code                                                          \n",
      "BR                  brazil  brasilia   8.516      200.40  String   NaN\n",
      "RU                  russia    moscow  17.100      143.50     NaN   NaN\n",
      "IN                   india     delhi   3.286     1252.00  String   NaN\n",
      "CH                   china   beijing   9.597     1357.00  String   NaN\n",
      "SA            south africa  pretoria   1.221       52.98     NaN   NaN\n"
     ]
    }
   ],
   "source": [
    "import numpy as np\n",
    "\n",
    "df_with_nans = brics_df.copy()\n",
    "df_with_nans['col1'] = ['String', np.nan, 'String', 'String', np.nan]\n",
    "df_with_nans['col2'] = np.nan\n",
    "print(df_with_nans)"
   ]
  },
  {
   "cell_type": "code",
   "execution_count": 75,
   "metadata": {},
   "outputs": [
    {
     "name": "stdout",
     "output_type": "stream",
     "text": [
      "                col1  col2\n",
      "Country Code              \n",
      "BR            String   NaN\n",
      "RU               NaN   NaN\n",
      "IN            String   NaN\n",
      "CH            String   NaN\n",
      "SA               NaN   NaN\n"
     ]
    }
   ],
   "source": [
    "print(df_with_nans.loc[:,df_with_nans.isnull().any()])"
   ]
  },
  {
   "cell_type": "code",
   "execution_count": 76,
   "metadata": {},
   "outputs": [
    {
     "name": "stdout",
     "output_type": "stream",
     "text": [
      "              col2\n",
      "Country Code      \n",
      "BR             NaN\n",
      "RU             NaN\n",
      "IN             NaN\n",
      "CH             NaN\n",
      "SA             NaN\n"
     ]
    }
   ],
   "source": [
    "print(df_with_nans.loc[:,df_with_nans.isnull().all()])"
   ]
  },
  {
   "cell_type": "code",
   "execution_count": null,
   "metadata": {},
   "outputs": [],
   "source": [
    "# NaN olmayan en az bir değer içeren sütunları şu şekilde seçebiliriz: df.loc[:,df.notnull().any()]\n",
    "# Hiç bir elemanı NaN olmayan sütunları şu şekilde seçebiliriz: df.loc[:,df.notnull().all()]"
   ]
  },
  {
   "cell_type": "code",
   "execution_count": 77,
   "metadata": {},
   "outputs": [
    {
     "name": "stdout",
     "output_type": "stream",
     "text": [
      "                   country   capital    area  population    col1\n",
      "Country Code                                                    \n",
      "BR                  brazil  brasilia   8.516      200.40  String\n",
      "RU                  russia    moscow  17.100      143.50     NaN\n",
      "IN                   india     delhi   3.286     1252.00  String\n",
      "CH                   china   beijing   9.597     1357.00  String\n",
      "SA            south africa  pretoria   1.221       52.98     NaN\n"
     ]
    }
   ],
   "source": [
    "print(df_with_nans.loc[:,df_with_nans.notnull().any()])"
   ]
  },
  {
   "cell_type": "code",
   "execution_count": 78,
   "metadata": {},
   "outputs": [
    {
     "name": "stdout",
     "output_type": "stream",
     "text": [
      "                   country   capital    area  population\n",
      "Country Code                                            \n",
      "BR                  brazil  brasilia   8.516      200.40\n",
      "RU                  russia    moscow  17.100      143.50\n",
      "IN                   india     delhi   3.286     1252.00\n",
      "CH                   china   beijing   9.597     1357.00\n",
      "SA            south africa  pretoria   1.221       52.98\n"
     ]
    }
   ],
   "source": [
    "print(df_with_nans.loc[:,df_with_nans.notnull().all()])"
   ]
  },
  {
   "cell_type": "code",
   "execution_count": 85,
   "metadata": {},
   "outputs": [],
   "source": [
    "# Aslında all metodu False içermeyen sütunları döndürür. Eğer değer 0 değilse, False değilse ve ya\n",
    "# boş değilse True olarak kabul edilir\n",
    "# any metodu ise tümü False olmayan sütunları döndürür\n",
    "# notnull metodu tüm dataframe üzerinden null olmayan değerler için true null olan değerler için false döndürür\n",
    "# isnull metodu tüm dataframe üzerinden null olan değerler için true null olmayan değerler için false döndürür"
   ]
  },
  {
   "cell_type": "code",
   "execution_count": 86,
   "metadata": {},
   "outputs": [],
   "source": [
    "# Null içermeyen tüm verileri almak için şunu kullanabiliriz: df.loc[:,df.notnull().all()]"
   ]
  },
  {
   "cell_type": "code",
   "execution_count": 87,
   "metadata": {},
   "outputs": [],
   "source": [
    "# DataFrame içerisindeki bir sütunu başka bir sütuna göre de filtreleyebiliriz"
   ]
  },
  {
   "cell_type": "code",
   "execution_count": 88,
   "metadata": {},
   "outputs": [
    {
     "name": "stdout",
     "output_type": "stream",
     "text": [
      "Country Code\n",
      "BR    brazil\n",
      "IN     india\n",
      "CH     china\n",
      "Name: country, dtype: object\n"
     ]
    }
   ],
   "source": [
    "print(brics_df.country[brics_df.population > 200.00])"
   ]
  },
  {
   "cell_type": "code",
   "execution_count": 89,
   "metadata": {},
   "outputs": [],
   "source": [
    "# Bir sütunun değerlerini başka bir sütuna göre filtreleme yaparak değiştirebiliriz"
   ]
  },
  {
   "cell_type": "code",
   "execution_count": 91,
   "metadata": {},
   "outputs": [
    {
     "name": "stdout",
     "output_type": "stream",
     "text": [
      "                   country   capital     area  population\n",
      "Country Code                                             \n",
      "BR                  brazil  brasilia  108.516      200.40\n",
      "RU                  russia    moscow   17.100      143.50\n",
      "IN                   india     delhi  103.286     1252.00\n",
      "CH                   china   beijing  109.597     1357.00\n",
      "SA            south africa  pretoria    1.221       52.98\n"
     ]
    },
    {
     "name": "stderr",
     "output_type": "stream",
     "text": [
      "/home/apeiron/anaconda3/lib/python3.6/site-packages/ipykernel_launcher.py:1: SettingWithCopyWarning: \n",
      "A value is trying to be set on a copy of a slice from a DataFrame\n",
      "\n",
      "See the caveats in the documentation: http://pandas.pydata.org/pandas-docs/stable/indexing.html#indexing-view-versus-copy\n",
      "  \"\"\"Entry point for launching an IPython kernel.\n"
     ]
    }
   ],
   "source": [
    "brics_df.area[brics_df.population > 200.00] += 100\n",
    "print(brics_df)"
   ]
  },
  {
   "cell_type": "code",
   "execution_count": 92,
   "metadata": {},
   "outputs": [],
   "source": [
    "# Bir DataFrame üzerinde en az bir tane Null içeren satırları düşürmek için dropna(how='any') kullanırız\n",
    "# Bir DataFrame üzerinde tüm sütun değerleri Null içeren satırları düşürmek için dropna(how='all') kullanırız"
   ]
  },
  {
   "cell_type": "code",
   "execution_count": 99,
   "metadata": {},
   "outputs": [
    {
     "name": "stdout",
     "output_type": "stream",
     "text": [
      "                   country   capital    area  population    col1\n",
      "Country Code                                                    \n",
      "BR                  brazil  brasilia   8.516      200.40  String\n",
      "RU                  russia    moscow  17.100      143.50     NaN\n",
      "IN                   india     delhi   3.286     1252.00  String\n",
      "CH                   china   beijing   9.597     1357.00  String\n",
      "SA            south africa  pretoria   1.221       52.98     NaN\n",
      "TR                     NaN       NaN     NaN         NaN     NaN\n"
     ]
    }
   ],
   "source": [
    "df_with_nans.loc['TR',:] = np.nan\n",
    "df_with_nans = df_with_nans.loc[:,:'col1']\n",
    "print(df_with_nans)"
   ]
  },
  {
   "cell_type": "code",
   "execution_count": 100,
   "metadata": {},
   "outputs": [
    {
     "name": "stdout",
     "output_type": "stream",
     "text": [
      "             country   capital   area  population    col1\n",
      "Country Code                                             \n",
      "BR            brazil  brasilia  8.516       200.4  String\n",
      "IN             india     delhi  3.286      1252.0  String\n",
      "CH             china   beijing  9.597      1357.0  String\n"
     ]
    }
   ],
   "source": [
    "print(df_with_nans.dropna(how='any'))"
   ]
  },
  {
   "cell_type": "code",
   "execution_count": 101,
   "metadata": {},
   "outputs": [
    {
     "name": "stdout",
     "output_type": "stream",
     "text": [
      "                   country   capital    area  population    col1\n",
      "Country Code                                                    \n",
      "BR                  brazil  brasilia   8.516      200.40  String\n",
      "RU                  russia    moscow  17.100      143.50     NaN\n",
      "IN                   india     delhi   3.286     1252.00  String\n",
      "CH                   china   beijing   9.597     1357.00  String\n",
      "SA            south africa  pretoria   1.221       52.98     NaN\n"
     ]
    }
   ],
   "source": [
    "print(df_with_nans.dropna(how='all'))"
   ]
  },
  {
   "cell_type": "code",
   "execution_count": 102,
   "metadata": {},
   "outputs": [],
   "source": [
    "# DataFrame üzerinde belirli bir eşik değerinin altına null olmayan değer içeren sütunları da düşürebiliriz"
   ]
  },
  {
   "cell_type": "code",
   "execution_count": 103,
   "metadata": {},
   "outputs": [
    {
     "name": "stdout",
     "output_type": "stream",
     "text": [
      "                   country   capital    area  population\n",
      "Country Code                                            \n",
      "BR                  brazil  brasilia   8.516      200.40\n",
      "RU                  russia    moscow  17.100      143.50\n",
      "IN                   india     delhi   3.286     1252.00\n",
      "CH                   china   beijing   9.597     1357.00\n",
      "SA            south africa  pretoria   1.221       52.98\n",
      "TR                     NaN       NaN     NaN         NaN\n"
     ]
    }
   ],
   "source": [
    "print(df_with_nans.dropna(thresh=4, axis='columns'))"
   ]
  }
 ],
 "metadata": {
  "kernelspec": {
   "display_name": "Python 3",
   "language": "python",
   "name": "python3"
  },
  "language_info": {
   "codemirror_mode": {
    "name": "ipython",
    "version": 3
   },
   "file_extension": ".py",
   "mimetype": "text/x-python",
   "name": "python",
   "nbconvert_exporter": "python",
   "pygments_lexer": "ipython3",
   "version": "3.6.8"
  }
 },
 "nbformat": 4,
 "nbformat_minor": 2
}
