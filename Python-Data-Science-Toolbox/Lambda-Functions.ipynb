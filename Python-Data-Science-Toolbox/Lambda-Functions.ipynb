{
 "cells": [
  {
   "cell_type": "code",
   "execution_count": 18,
   "metadata": {},
   "outputs": [],
   "source": [
    "from functools import reduce"
   ]
  },
  {
   "cell_type": "code",
   "execution_count": 1,
   "metadata": {},
   "outputs": [],
   "source": [
    "# İşlevselliği fonksiyon kullanmadan kolayca tanımlamamızı sağlar\n",
    "# Basit bir üs alma işlevi lambda ifadesi ile aşağıdaki gibi yazılır:"
   ]
  },
  {
   "cell_type": "code",
   "execution_count": 2,
   "metadata": {},
   "outputs": [
    {
     "data": {
      "text/plain": [
       "8"
      ]
     },
     "execution_count": 2,
     "metadata": {},
     "output_type": "execute_result"
    }
   ],
   "source": [
    "raise_to_power = lambda x, y: x ** y\n",
    "raise_to_power(2, 3)"
   ]
  },
  {
   "cell_type": "code",
   "execution_count": 3,
   "metadata": {},
   "outputs": [],
   "source": [
    "# Her zaman kullanmaktan kaçınmak gerekir fakat bazı durumlarda çok kullanışlıdır\n",
    "# Örneğin map fonksiyonu gibi parametre olarak anonim fonksiyon alan fonksiyonlarda kullanılabilir\n",
    "# map fonksiyonu iki parametre alır: bir fonksiyon ve bu fonksiyonu uygulayacağı dizi"
   ]
  },
  {
   "cell_type": "code",
   "execution_count": 7,
   "metadata": {},
   "outputs": [
    {
     "data": {
      "text/plain": [
       "[1, 4, 9, 16]"
      ]
     },
     "execution_count": 7,
     "metadata": {},
     "output_type": "execute_result"
    }
   ],
   "source": [
    "elements = [1, 2, 3, 4]\n",
    "square_all = map(lambda x: x ** 2, elements)\n",
    "list(square_all)"
   ]
  },
  {
   "cell_type": "code",
   "execution_count": 8,
   "metadata": {},
   "outputs": [],
   "source": [
    "# Filter fonksiyonu bir lambda ifadesi ve bir dizi alarak lambda ifadesi ile\n",
    "# belirtilen koşulları sağlamayan elemanları atar"
   ]
  },
  {
   "cell_type": "code",
   "execution_count": 16,
   "metadata": {},
   "outputs": [
    {
     "data": {
      "text/plain": [
       "['Tolga', 'Karahan']"
      ]
     },
     "execution_count": 16,
     "metadata": {},
     "output_type": "execute_result"
    }
   ],
   "source": [
    "my_list = [\"Tolga\", \"Karahan\", 24]\n",
    "result = filter(lambda x: isinstance(x, str), my_list)\n",
    "list(result)"
   ]
  },
  {
   "cell_type": "code",
   "execution_count": 17,
   "metadata": {},
   "outputs": [],
   "source": [
    "# Reduce fonksiyonu bir lambda ifadesi ve bir dizi larak diziyi tek bir değere indirger"
   ]
  },
  {
   "cell_type": "code",
   "execution_count": 20,
   "metadata": {},
   "outputs": [
    {
     "data": {
      "text/plain": [
       "'LukeObi-WanAnakinLeiaHan Solo'"
      ]
     },
     "execution_count": 20,
     "metadata": {},
     "output_type": "execute_result"
    }
   ],
   "source": [
    "gibberish = \"Luke\" + \"Obi-Wan\" + \"Anakin\" + \"Leia\" + \"Han Solo\"\n",
    "result = reduce(lambda str1, str2: str1 + str2, gibberish)\n",
    "result"
   ]
  },
  {
   "cell_type": "code",
   "execution_count": null,
   "metadata": {},
   "outputs": [],
   "source": []
  }
 ],
 "metadata": {
  "kernelspec": {
   "display_name": "Python 3",
   "language": "python",
   "name": "python3"
  },
  "language_info": {
   "codemirror_mode": {
    "name": "ipython",
    "version": 3
   },
   "file_extension": ".py",
   "mimetype": "text/x-python",
   "name": "python",
   "nbconvert_exporter": "python",
   "pygments_lexer": "ipython3",
   "version": "3.6.8"
  }
 },
 "nbformat": 4,
 "nbformat_minor": 2
}
