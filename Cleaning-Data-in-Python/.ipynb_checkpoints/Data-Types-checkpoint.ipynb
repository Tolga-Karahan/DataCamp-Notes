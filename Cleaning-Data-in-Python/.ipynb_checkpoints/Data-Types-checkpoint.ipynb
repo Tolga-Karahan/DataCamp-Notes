{
 "cells": [
  {
   "cell_type": "code",
   "execution_count": 1,
   "metadata": {},
   "outputs": [],
   "source": [
    "# Dataframelerin dtypes attributesini kullanarak sütunların veri tiplerini görebiliriz\n",
    "# astype metodu ile tipler arası dönüşüm yapabiliriz : df['treatment b'] = df['treatment b'].astype(str)\n",
    "# Cinsiyet gibi kategorileri temsil eden değişkenleri object tipinden category tipine değiştirebiliriz:\n",
    "# df['sex'] = df.['sex'].astype('category')\n",
    "# Kategorik değişkenler category tipine döndürülerek bellekten tasarruf sağlanır\n",
    "# Analiz esnasında kategorik verilerden faydalanan diğer kütüphaneler kullanılabilir\n",
    "# Sayısal değer almasına rağmen object tipinde tutulan değerler olabilir. Bunun sebeplerinden bir tanesi bulunmayan\n",
    "# değerlerin bir karakter('-' gibi) kullanılarak temsil edilmesidir. Bu durumda değerleri tekrar sayısal değerlere\n",
    "# çevirmek  ve bulunmayan değerleri NaN yapmak için to_numeric fonksiyonunu kullanırız:\n",
    "# pd.to_numeric(df['treatment b'], errors='coerce')"
   ]
  },
  {
   "cell_type": "code",
   "execution_count": 4,
   "metadata": {},
   "outputs": [
    {
     "data": {
      "text/plain": [
       "total_bill    float64\n",
       "tip           float64\n",
       "sex            object\n",
       "smoker         object\n",
       "day            object\n",
       "time           object\n",
       "size            int64\n",
       "dtype: object"
      ]
     },
     "execution_count": 4,
     "metadata": {},
     "output_type": "execute_result"
    }
   ],
   "source": [
    "import pandas as pd\n",
    "\n",
    "df = pd.read_csv('https://raw.githubusercontent.com/mwaskom/seaborn-data/master/tips.csv')\n",
    "df.dtypes"
   ]
  },
  {
   "cell_type": "code",
   "execution_count": 6,
   "metadata": {},
   "outputs": [
    {
     "name": "stdout",
     "output_type": "stream",
     "text": [
      "Index           80\n",
      "total_bill    1952\n",
      "tip           1952\n",
      "sex           1952\n",
      "smoker        1952\n",
      "day           1952\n",
      "time          1952\n",
      "size          1952\n",
      "dtype: int64\n"
     ]
    }
   ],
   "source": [
    "print(df.memory_usage())"
   ]
  },
  {
   "cell_type": "code",
   "execution_count": 9,
   "metadata": {},
   "outputs": [
    {
     "name": "stdout",
     "output_type": "stream",
     "text": [
      "Index           80\n",
      "total_bill    1952\n",
      "tip           1952\n",
      "sex            340\n",
      "smoker         340\n",
      "day           1952\n",
      "time          1952\n",
      "size          1952\n",
      "dtype: int64\n"
     ]
    }
   ],
   "source": [
    "df.sex = df.sex.astype('category')\n",
    "df.smoker = df.smoker.astype('category')\n",
    "print(df.memory_usage())"
   ]
  },
  {
   "cell_type": "code",
   "execution_count": 10,
   "metadata": {},
   "outputs": [],
   "source": [
    "# Veriler temizlenirken string manipülasyonları yaygın olarak kullanılır\n",
    "# Stringlerin eşlenmesi için re kütüphanesi kullanılır\n",
    "# \\d paterni tek bir tane digiti temsil eder, eğer dolar ile ilgili veriler söz konusu ise $ ve . işaretlerine\n",
    "# dikkat etmek gerekir. Bunlar aynı zamanda metakarakter olduğu için stringte eşlemek için \\kullanılmalıdır\n",
    "# Örneğin $32.175 formatında verileri eşleyelim: $\\$\\d{2}\\.\\d{3}^\n",
    "# Eşleme yapılmadan önce paternin derlenmesi işlemlerin daha verimli yapılmasını sağlar\n",
    "# re kütüphanesinin compile metoduna paternimizi vererek derleyebiliriz\n",
    "# Ardından compile metodunun döndürdüğü referans üzerinde match metoduna stringi argüman olarak vererek eşleriz\n",
    "# match metodu geriye bir match nesnesi döndürür. Bu nesne kullanılarak sonuçlar alınabilir\n",
    "# Dönen nesneyi bool fonksiyonuna geçirerek mantıksal işlemler yapabiliriz"
   ]
  },
  {
   "cell_type": "code",
   "execution_count": 11,
   "metadata": {},
   "outputs": [],
   "source": [
    "# findall metodu ile bir string üzerinde birden fazla kez eşleme yapabiliriz. Mesela bir cümleden sayıları çıkartmak\n",
    "# için findall metodunu ve regexleri kullanabiliriz"
   ]
  },
  {
   "cell_type": "code",
   "execution_count": 14,
   "metadata": {},
   "outputs": [
    {
     "name": "stdout",
     "output_type": "stream",
     "text": [
      "4\n",
      "1\n"
     ]
    }
   ],
   "source": [
    "import re\n",
    "\n",
    "foo = 'I told him to buy 4 eggs and 1 liter milk.'\n",
    "result = re.findall('\\d+', foo)\n",
    "\n",
    "for res in result:\n",
    "    print(res)"
   ]
  },
  {
   "cell_type": "code",
   "execution_count": 15,
   "metadata": {},
   "outputs": [],
   "source": [
    "# Sütunlar üzerinde yapacağımız manipülasyon birden fazla adım gerektiriyorsa apply fonksiyonunu kullanabiliriz\n",
    "# apply fonksiyonunun axis parametresi ile işlemleri satırlar boyunca ve ya sütunlar boyunca yapabiliriz\n",
    "# Kendi fonksiyonlarımızı yazarakta apply fonksiyonuna argüman olarak sağlayabiliriz\n",
    "# Eğer satırlar üzerinden işlem yapıyorsak yazdığımız fonksiyonunu bir parametresi tüm satırı almalıdır\n",
    "# Eğer ilave parametreler olacaksa mesela eşlenecek patern gibi, gerekli argümanları da apply metoduna sağlarız"
   ]
  },
  {
   "cell_type": "code",
   "execution_count": 20,
   "metadata": {},
   "outputs": [
    {
     "name": "stdout",
     "output_type": "stream",
     "text": [
      "  First Name Second Name    Salary     Tip\n",
      "0      Tolga     Karahan  $5000.17  $47.57\n",
      "1     Mahsum       Yatkı   $10.057  $10.23\n",
      "2     Maykıl     Versene  $7500.57   $7.46\n",
      "3       Corc        Borç     $5.04   $3.24\n"
     ]
    }
   ],
   "source": [
    "data = {'First Name':['Tolga', 'Mahsum', 'Maykıl', 'Corc'],\n",
    "        'Second Name':['Karahan', 'Yatkı', 'Versene', 'Borç'],\n",
    "        'Salary':['$5000.17', '$10.057', '$7500.57', '$5.04'],\n",
    "        'Tip':['$47.57', '$10.23', '$7.46', '$3.24']}\n",
    "\n",
    "df = pd.DataFrame(data)\n",
    "print(df)"
   ]
  },
  {
   "cell_type": "code",
   "execution_count": 19,
   "metadata": {},
   "outputs": [],
   "source": [
    "from numpy import NaN\n",
    "\n",
    "def get_diff(row, pattern):\n",
    "    \n",
    "    salary = row['Salary']\n",
    "    tip    = row['Tip']\n",
    "    regex  = re.compile(pattern)\n",
    "    \n",
    "    if bool(regex.match(salary) and regex.match(tip)):\n",
    "        \n",
    "        salary = salary.replace('$', '')\n",
    "        tip    = tip.replace('$', '')\n",
    "        \n",
    "        salary = float(salary)\n",
    "        tip    = float(tip)\n",
    "        \n",
    "        diff   = salary - tip\n",
    "        \n",
    "        return diff\n",
    "    \n",
    "    else:\n",
    "        return NaN\n",
    "        "
   ]
  },
  {
   "cell_type": "code",
   "execution_count": 22,
   "metadata": {},
   "outputs": [
    {
     "name": "stdout",
     "output_type": "stream",
     "text": [
      "  First Name Second Name    Salary     Tip  difference\n",
      "0      Tolga     Karahan  $5000.17  $47.57     4952.60\n",
      "1     Mahsum       Yatkı   $10.057  $10.23         NaN\n",
      "2     Maykıl     Versene  $7500.57   $7.46     7493.11\n",
      "3       Corc        Borç     $5.04   $3.24        1.80\n"
     ]
    }
   ],
   "source": [
    "pattern = '^\\$\\d*\\.\\d{2}$'\n",
    "\n",
    "df['difference'] = df.apply(get_diff,\n",
    "                            axis=1,\n",
    "                            pattern=pattern)\n",
    "\n",
    "print(df)"
   ]
  },
  {
   "cell_type": "code",
   "execution_count": 23,
   "metadata": {},
   "outputs": [],
   "source": [
    "# apply metodunu series nesnelerine de uygulayabiliriz, yani sadece belirli sütunlara ve ya satırlara"
   ]
  },
  {
   "cell_type": "code",
   "execution_count": 24,
   "metadata": {},
   "outputs": [],
   "source": [
    "# Veriler temizlenirken karşımıza çıkan bir diğer problem tekrarlanan değerlerdir\n",
    "# Tekrarlı değerlerden kurtulmak için drop_duplicates metodunu kullanabiliriz\n",
    "# Yine sıkça karşılaşılan problemlerden birisi kayıp değerlerdir. Kayıp değerleri olduğu gibi bırakabiliriz,\n",
    "# düşürebiliriz ve ya kütüphaneleri kullanarak bu değerleri doldurabiliriz. Kayıp değerlerin kaynağı araştırılmalı\n",
    "# Kayıp değerler rastgele yayılmış olabilir ve ya verideki sistematik bir problemden dolayı oluşabilirler\n",
    "# Kayıp değerlerin sayısı info metodu ile de görülebilir. Eğer basitçe kayıp değerleri düşürmek istiyorsak\n",
    "# dataframe üzerinde dropna metodunu kullanabiliriz. Sonuç olarak sadece tüm değerlere sahip olan satırlar korunur\n",
    "# Eğer kayıp değerlerin büyük çoğunluğu bir sütundan geliyorsa bu sütun düşürülebilir\n",
    "# Verileri doldurmak için kendi değerlerimizi ve ya istatistikleri kullanabiliriz\n",
    "# Eğer kendi değerimiz ile dolduracaksak dataframe üzerinde fillna metodunu kullanabiliriz\n",
    "# Aynı tipe sahip birden fazla sütunu seçerek aynı anda kayıp değerleri doldurabiliriz\n",
    "# İstatistik ile doldurma da dikkatli olunması gerekir. Örneğin outlierlar söz konusu ile medyan kullanabiliriz"
   ]
  },
  {
   "cell_type": "code",
   "execution_count": 51,
   "metadata": {},
   "outputs": [
    {
     "name": "stdout",
     "output_type": "stream",
     "text": [
      "  First Name Second Name    Salary    Tip\n",
      "0      Tolga     Karahan  5000.170  47.57\n",
      "1     Mahsum       Yatkı    10.057  10.23\n",
      "2     Maykıl     Versene  7500.570    NaN\n",
      "3       Corc        Borç     5.040   3.24\n"
     ]
    }
   ],
   "source": [
    "data = {'First Name':['Tolga', 'Mahsum', 'Maykıl', 'Corc'],\n",
    "        'Second Name':['Karahan', 'Yatkı', 'Versene', 'Borç'],\n",
    "        'Salary':[5000.17, 10.057, 7500.57, 5.04],\n",
    "        'Tip':[47.57, 10.23, NaN, 3.24]}\n",
    "\n",
    "df = pd.DataFrame(data)\n",
    "print(df)"
   ]
  },
  {
   "cell_type": "code",
   "execution_count": 47,
   "metadata": {},
   "outputs": [
    {
     "ename": "AssertionError",
     "evalue": "There are missing values",
     "output_type": "error",
     "traceback": [
      "\u001b[0;31m---------------------------------------------------------------------------\u001b[0m",
      "\u001b[0;31mAssertionError\u001b[0m                            Traceback (most recent call last)",
      "\u001b[0;32m<ipython-input-47-6fd6d97837ca>\u001b[0m in \u001b[0;36m<module>\u001b[0;34m\u001b[0m\n\u001b[0;32m----> 1\u001b[0;31m \u001b[0;32massert\u001b[0m \u001b[0mdf\u001b[0m\u001b[0;34m.\u001b[0m\u001b[0mTip\u001b[0m\u001b[0;34m.\u001b[0m\u001b[0mnotnull\u001b[0m\u001b[0;34m(\u001b[0m\u001b[0;34m)\u001b[0m\u001b[0;34m.\u001b[0m\u001b[0mall\u001b[0m\u001b[0;34m(\u001b[0m\u001b[0;34m)\u001b[0m\u001b[0;34m,\u001b[0m \u001b[0;34m'There are missing values'\u001b[0m\u001b[0;34m\u001b[0m\u001b[0;34m\u001b[0m\u001b[0m\n\u001b[0m",
      "\u001b[0;31mAssertionError\u001b[0m: There are missing values"
     ]
    }
   ],
   "source": [
    "assert df.Tip.notnull().all(), 'There are missing values'"
   ]
  },
  {
   "cell_type": "code",
   "execution_count": 52,
   "metadata": {},
   "outputs": [
    {
     "name": "stdout",
     "output_type": "stream",
     "text": [
      "  First Name Second Name    Salary        Tip\n",
      "0      Tolga     Karahan  5000.170  47.570000\n",
      "1     Mahsum       Yatkı    10.057  10.230000\n",
      "2     Maykıl     Versene  7500.570  20.346667\n",
      "3       Corc        Borç     5.040   3.240000\n"
     ]
    }
   ],
   "source": [
    "tip_mean = df['Tip'].mean()\n",
    "df['Tip'] = df['Tip'].fillna(tip_mean)\n",
    "print(df)"
   ]
  },
  {
   "cell_type": "code",
   "execution_count": 53,
   "metadata": {},
   "outputs": [],
   "source": [
    "# notnull metodunu tüm dataframe üzerinde kullanıyorsak iki tane all çağrısı yapmalıyız\n",
    "# Çünkü all çağrısı ile bool vektörü tek bir bool değere indirgenir\n",
    "# Ayrıca tüm DataFrame üzerinde mantıksal operatör kullanıyorsak iki tane all() çağrısı ile tüm değerlerin\n",
    "# bu mantıksal koşulu sağlayıp sağlamadığını görebiliriz"
   ]
  },
  {
   "cell_type": "code",
   "execution_count": 55,
   "metadata": {},
   "outputs": [
    {
     "name": "stdout",
     "output_type": "stream",
     "text": [
      "True\n"
     ]
    }
   ],
   "source": [
    "print(df.notnull().all().all())"
   ]
  }
 ],
 "metadata": {
  "kernelspec": {
   "display_name": "Python 3",
   "language": "python",
   "name": "python3"
  },
  "language_info": {
   "codemirror_mode": {
    "name": "ipython",
    "version": 3
   },
   "file_extension": ".py",
   "mimetype": "text/x-python",
   "name": "python",
   "nbconvert_exporter": "python",
   "pygments_lexer": "ipython3",
   "version": "3.6.8"
  }
 },
 "nbformat": 4,
 "nbformat_minor": 2
}
