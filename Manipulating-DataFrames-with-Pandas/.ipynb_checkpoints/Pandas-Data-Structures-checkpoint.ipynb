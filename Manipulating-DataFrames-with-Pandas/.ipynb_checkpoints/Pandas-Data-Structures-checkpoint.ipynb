{
 "cells": [
  {
   "cell_type": "code",
   "execution_count": 1,
   "metadata": {},
   "outputs": [],
   "source": [
    "# Pandas'taki anahtar yapı taşları İndeksler, Seriler ve DataFramelerdir.\n",
    "# Bir İndeks bir etiket dizisidir.\n",
    "# Series indeks içeren tek boyutlu diziler gibi düşünülebilir.\n",
    "# DataFrame'ler sütunlarında serileri içeren ve aynı indeksleri paylaşan 2B tablolardır.\n",
    "# İndeksler immutable dır ve aynı tipte değerler içermek zorundadır.\n",
    "# DataFrame'de sütun isimleride bir indekstir. Sütun indekslerine isim atamak için df.columns.name\n",
    "# attributesi kullanılır. Satır indekslerine isim atamak için ise df.index.name attributesi kullanılır"
   ]
  },
  {
   "cell_type": "code",
   "execution_count": 14,
   "metadata": {},
   "outputs": [
    {
     "name": "stdout",
     "output_type": "stream",
     "text": [
      "         Date   Close    Volume Symbol\n",
      "0  2016-10-03   31.50  14070500   CSCO\n",
      "1  2016-10-03  112.52  21701800   AAPL\n",
      "2  2016-10-03   57.42  19189500   MSFT\n",
      "3  2016-10-04  113.00  29736800   AAPL\n",
      "4  2016-10-04   57.24  20085900   MSFT\n",
      "5  2016-10-04   31.35  18460400   CSCO\n",
      "6  2016-10-05   57.64  16726400   MSFT\n",
      "7  2016-10-05   31.59  11808600   CSCO\n",
      "8  2016-10-05  113.05  21453100   AAPL\n"
     ]
    }
   ],
   "source": [
    "import pandas as pd\n",
    "\n",
    "data = {'Date':['2016-10-03', '2016-10-03', '2016-10-03',\n",
    "                '2016-10-04', '2016-10-04', '2016-10-04',\n",
    "                '2016-10-05', '2016-10-05', '2016-10-05'],\n",
    "        'Close':[31.50, 112.52, 57.42, 113.00, 57.24,\n",
    "                 31.35, 57.64, 31.59, 113.05],\n",
    "        'Volume':[14070500, 21701800, 19189500, 29736800,\n",
    "                  20085900, 18460400, 16726400, 11808600, 21453100],\n",
    "        'Symbol':['CSCO', 'AAPL', 'MSFT', 'AAPL', 'MSFT', \n",
    "                  'CSCO', 'MSFT', 'CSCO', 'AAPL']}\n",
    "\n",
    "df = pd.DataFrame(data)\n",
    "print(df)"
   ]
  },
  {
   "cell_type": "code",
   "execution_count": 8,
   "metadata": {},
   "outputs": [],
   "source": [
    "# Yukarıdaki DataFrame i incelediğimizde tekrarlanmalar olduğunu görürüz. Tekrarlanmaların\n",
    "# sebebi Date ve Symbol sütunlarıdır. Bu durumda indeksler her bir sütunu unique olarak \n",
    "# tanımlamaz. Tablodaki her bir kaydı unique olarak tanımlayabilmek için Date ve Symbol\n",
    "# sütunlarından oluşan bir tuple ı indeks olarak kullanabiliriz. "
   ]
  },
  {
   "cell_type": "code",
   "execution_count": 17,
   "metadata": {},
   "outputs": [
    {
     "name": "stdout",
     "output_type": "stream",
     "text": [
      "                    Close    Volume\n",
      "Symbol Date                        \n",
      "CSCO   2016-10-03   31.50  14070500\n",
      "AAPL   2016-10-03  112.52  21701800\n",
      "MSFT   2016-10-03   57.42  19189500\n",
      "AAPL   2016-10-04  113.00  29736800\n",
      "MSFT   2016-10-04   57.24  20085900\n",
      "CSCO   2016-10-04   31.35  18460400\n",
      "MSFT   2016-10-05   57.64  16726400\n",
      "CSCO   2016-10-05   31.59  11808600\n",
      "AAPL   2016-10-05  113.05  21453100\n"
     ]
    }
   ],
   "source": [
    "df = df.set_index(['Symbol', 'Date'])\n",
    "print(df)"
   ]
  },
  {
   "cell_type": "code",
   "execution_count": 10,
   "metadata": {},
   "outputs": [],
   "source": [
    "# Yeni indeksi yazdırdığımız zaman multiindex ve ya hiearchical index olduğunu görürüz.\n",
    "# Birden fazla sütunu olduğu için artık names attributesi kullanılmalıdır."
   ]
  },
  {
   "cell_type": "code",
   "execution_count": 12,
   "metadata": {},
   "outputs": [
    {
     "name": "stdout",
     "output_type": "stream",
     "text": [
      "MultiIndex(levels=[['AAPL', 'CSCO', 'MSFT'], ['2016-10-03', '2016-10-04', '2016-10-05']],\n",
      "           labels=[[1, 0, 2, 0, 2, 1, 2, 1, 0], [0, 0, 0, 1, 1, 1, 2, 2, 2]],\n",
      "           names=['Symbol', 'Date'])\n",
      "['Symbol', 'Date']\n"
     ]
    }
   ],
   "source": [
    "print(df.index)\n",
    "print(df.index.names)"
   ]
  },
  {
   "cell_type": "code",
   "execution_count": 15,
   "metadata": {},
   "outputs": [],
   "source": [
    "# İndeksler sıralı değildir. İndeksleri sıralayalım"
   ]
  },
  {
   "cell_type": "code",
   "execution_count": 18,
   "metadata": {},
   "outputs": [
    {
     "name": "stdout",
     "output_type": "stream",
     "text": [
      "                    Close    Volume\n",
      "Symbol Date                        \n",
      "AAPL   2016-10-03  112.52  21701800\n",
      "       2016-10-04  113.00  29736800\n",
      "       2016-10-05  113.05  21453100\n",
      "CSCO   2016-10-03   31.50  14070500\n",
      "       2016-10-04   31.35  18460400\n",
      "       2016-10-05   31.59  11808600\n",
      "MSFT   2016-10-03   57.42  19189500\n",
      "       2016-10-04   57.24  20085900\n",
      "       2016-10-05   57.64  16726400\n"
     ]
    }
   ],
   "source": [
    "df = df.sort_index()\n",
    "print(df)"
   ]
  },
  {
   "cell_type": "code",
   "execution_count": 19,
   "metadata": {},
   "outputs": [],
   "source": [
    "# İndeksleme yaparken artık tuple kullanırız."
   ]
  },
  {
   "cell_type": "code",
   "execution_count": 27,
   "metadata": {},
   "outputs": [
    {
     "name": "stdout",
     "output_type": "stream",
     "text": [
      "                    Close    Volume\n",
      "Symbol Date                        \n",
      "AAPL   2016-10-03  112.52  21701800\n"
     ]
    }
   ],
   "source": [
    "print(df.loc[('AAPL', '2016-10-03'),:])"
   ]
  },
  {
   "cell_type": "code",
   "execution_count": null,
   "metadata": {},
   "outputs": [],
   "source": [
    "# Tuple kullanmazsak ve ya indeksteki tüm sütunları kullanmazsak kullanılmayan sütunun tüm\n",
    "# değerleri için karşılık düşen kayıtlar döndürülür."
   ]
  },
  {
   "cell_type": "code",
   "execution_count": 43,
   "metadata": {},
   "outputs": [
    {
     "name": "stdout",
     "output_type": "stream",
     "text": [
      "            Close    Volume\n",
      "Date                       \n",
      "2016-10-03  31.50  14070500\n",
      "2016-10-04  31.35  18460400\n",
      "2016-10-05  31.59  11808600\n"
     ]
    }
   ],
   "source": [
    "print(df.loc['CSCO'])"
   ]
  },
  {
   "cell_type": "code",
   "execution_count": 49,
   "metadata": {},
   "outputs": [
    {
     "name": "stdout",
     "output_type": "stream",
     "text": [
      "                   Close    Volume\n",
      "Symbol Date                       \n",
      "CSCO   2016-10-04  31.35  18460400\n",
      "MSFT   2016-10-04  57.24  20085900\n"
     ]
    }
   ],
   "source": [
    "print(df.loc[(['CSCO', 'MSFT'], '2016-10-04'),:])"
   ]
  },
  {
   "cell_type": "code",
   "execution_count": 44,
   "metadata": {},
   "outputs": [
    {
     "name": "stdout",
     "output_type": "stream",
     "text": [
      "                   Close    Volume\n",
      "Symbol Date                       \n",
      "CSCO   2016-10-03  31.50  14070500\n",
      "       2016-10-04  31.35  18460400\n",
      "       2016-10-05  31.59  11808600\n",
      "MSFT   2016-10-03  57.42  19189500\n",
      "       2016-10-04  57.24  20085900\n",
      "       2016-10-05  57.64  16726400\n"
     ]
    }
   ],
   "source": [
    "print(df.loc['CSCO':'MSFT'])"
   ]
  },
  {
   "cell_type": "code",
   "execution_count": 51,
   "metadata": {},
   "outputs": [
    {
     "name": "stdout",
     "output_type": "stream",
     "text": [
      "                    Close    Volume\n",
      "Symbol Date                        \n",
      "AAPL   2016-10-03  112.52  21701800\n",
      "       2016-10-04  113.00  29736800\n"
     ]
    }
   ],
   "source": [
    "print(df.loc[('AAPL', ['2016-10-03', '2016-10-04']),:])"
   ]
  },
  {
   "cell_type": "code",
   "execution_count": 52,
   "metadata": {},
   "outputs": [],
   "source": [
    "# Tuple kullandığımız zaman slicing yapamayız. Bunun için slice fonksiyonunu kullanmalıyız"
   ]
  },
  {
   "cell_type": "code",
   "execution_count": 55,
   "metadata": {},
   "outputs": [
    {
     "name": "stdout",
     "output_type": "stream",
     "text": [
      "                   Close    Volume\n",
      "Symbol Date                       \n",
      "CSCO   2016-10-03  31.50  14070500\n",
      "       2016-10-04  31.35  18460400\n",
      "MSFT   2016-10-03  57.42  19189500\n",
      "       2016-10-04  57.24  20085900\n"
     ]
    }
   ],
   "source": [
    "print(df.loc[(slice('CSCO','MSFT'), slice('2016-10-03', '2016-10-04')),:])"
   ]
  }
 ],
 "metadata": {
  "kernelspec": {
   "display_name": "Python 3",
   "language": "python",
   "name": "python3"
  },
  "language_info": {
   "codemirror_mode": {
    "name": "ipython",
    "version": 3
   },
   "file_extension": ".py",
   "mimetype": "text/x-python",
   "name": "python",
   "nbconvert_exporter": "python",
   "pygments_lexer": "ipython3",
   "version": "3.6.8"
  }
 },
 "nbformat": 4,
 "nbformat_minor": 2
}
