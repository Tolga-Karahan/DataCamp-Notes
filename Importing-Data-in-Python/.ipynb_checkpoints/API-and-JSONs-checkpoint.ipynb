{
 "cells": [
  {
   "cell_type": "code",
   "execution_count": 1,
   "metadata": {},
   "outputs": [],
   "source": [
    "# API, uygulamalar oluşturmak ve etkileşime geçmek için bir protokoller ve rutinler kümesidir\n",
    "# JSON, Javascript Object Notation için kısaltmadır. Anahtar-değer ikililerinden oluşur\n",
    "# API'lerden çekilen veriler genellikle JSON formatında olur\n",
    "# API'lara requests modülü ile istek gönderebiliriz, cevap olarak aldığımız nesnelerin JSON formatında dosyaları\n",
    "# decode eden json() metodu bulunur. Bu metod geriye bir dictionary döndürür"
   ]
  },
  {
   "cell_type": "code",
   "execution_count": 3,
   "metadata": {},
   "outputs": [
    {
     "name": "stdout",
     "output_type": "stream",
     "text": [
      "db1 : {'dbname': 'dvdrental', 'user': 'postgres', 'password': 'postgres', 'hostaddr': '0.0.0.0', 'port': '5432', 'tables': {'table1': 'actor', 'table2': 'category', 'table3': 'language', 'table4': 'country'}} \n",
      "\n",
      "db2 : {'dbname': 'test', 'user': 'postgres', 'password': 'postgres', 'hostaddr': '0.0.0.0', 'port': '5432', 'tables': {'table1': 'test', 'table2': 'test2'}} \n",
      "\n"
     ]
    }
   ],
   "source": [
    "import json\n",
    "\n",
    "with open('example.json') as json_file:\n",
    "    json_data = json.load(json_file)\n",
    "    \n",
    "for key in json_data.keys():\n",
    "    print(key,':',json_data[key],'\\n')"
   ]
  },
  {
   "cell_type": "code",
   "execution_count": 4,
   "metadata": {},
   "outputs": [],
   "source": [
    "# Open Movie Database(OMDB) API'dan Social Network ile ilgili verileri çekelim"
   ]
  },
  {
   "cell_type": "code",
   "execution_count": 8,
   "metadata": {},
   "outputs": [
    {
     "name": "stdout",
     "output_type": "stream",
     "text": [
      "Title : The Social Network \n",
      "\n",
      "Year : 2010 \n",
      "\n",
      "Rated : PG-13 \n",
      "\n",
      "Released : 01 Oct 2010 \n",
      "\n",
      "Runtime : 120 min \n",
      "\n",
      "Genre : Biography, Drama \n",
      "\n",
      "Director : David Fincher \n",
      "\n",
      "Writer : Aaron Sorkin (screenplay), Ben Mezrich (book) \n",
      "\n",
      "Actors : Jesse Eisenberg, Rooney Mara, Bryan Barter, Dustin Fitzsimons \n",
      "\n",
      "Plot : Harvard student Mark Zuckerberg creates the social networking site. That would become known as Facebook but is later sued by two brothers who claimed he stole their idea, and the co-founder who was later squeezed out of the business. \n",
      "\n",
      "Language : English, French \n",
      "\n",
      "Country : USA \n",
      "\n",
      "Awards : Won 3 Oscars. Another 165 wins & 168 nominations. \n",
      "\n",
      "Poster : https://m.media-amazon.com/images/M/MV5BOGUyZDUxZjEtMmIzMC00MzlmLTg4MGItZWJmMzBhZjE0Mjc1XkEyXkFqcGdeQXVyMTMxODk2OTU@._V1_SX300.jpg \n",
      "\n",
      "Ratings : [{'Source': 'Internet Movie Database', 'Value': '7.7/10'}, {'Source': 'Rotten Tomatoes', 'Value': '95%'}, {'Source': 'Metacritic', 'Value': '95/100'}] \n",
      "\n",
      "Metascore : 95 \n",
      "\n",
      "imdbRating : 7.7 \n",
      "\n",
      "imdbVotes : 564,327 \n",
      "\n",
      "imdbID : tt1285016 \n",
      "\n",
      "Type : movie \n",
      "\n",
      "DVD : 11 Jan 2011 \n",
      "\n",
      "BoxOffice : $96,400,000 \n",
      "\n",
      "Production : Columbia Pictures \n",
      "\n",
      "Website : http://www.thesocialnetwork-movie.com/ \n",
      "\n",
      "Response : True \n",
      "\n"
     ]
    }
   ],
   "source": [
    "import requests\n",
    "\n",
    "url = 'https://www.omdbapi.com/?apikey=72bc447a&t=the+social+network'\n",
    "response = requests.get(url)\n",
    "json_data = response.json()\n",
    "\n",
    "for key in json_data.keys():\n",
    "    print(key,':',json_data[key],'\\n')"
   ]
  },
  {
   "cell_type": "code",
   "execution_count": null,
   "metadata": {},
   "outputs": [],
   "source": []
  }
 ],
 "metadata": {
  "kernelspec": {
   "display_name": "Python 3",
   "language": "python",
   "name": "python3"
  },
  "language_info": {
   "codemirror_mode": {
    "name": "ipython",
    "version": 3
   },
   "file_extension": ".py",
   "mimetype": "text/x-python",
   "name": "python",
   "nbconvert_exporter": "python",
   "pygments_lexer": "ipython3",
   "version": "3.6.8"
  }
 },
 "nbformat": 4,
 "nbformat_minor": 2
}
