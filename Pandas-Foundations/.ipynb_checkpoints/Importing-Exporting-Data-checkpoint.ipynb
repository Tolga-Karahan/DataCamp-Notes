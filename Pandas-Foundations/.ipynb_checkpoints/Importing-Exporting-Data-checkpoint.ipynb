{
 "cells": [
  {
   "cell_type": "code",
   "execution_count": 1,
   "metadata": {},
   "outputs": [],
   "source": [
    "# Okuduğumuz veride sütun başlıklarını belirten bir satır olmayabilir. Bu durumda biz haricen sütun başlıklarını\n",
    "# sağlamazsak ve ya sütun başlıkları olmadığını belirtmezsek ilk satır verileri sütun başlığıymış gibi kullanılır\n",
    "# Bunun önüne geçmek için header=None argümanını ve ya sütun başlıklarını içeren bir listeyi veriyoruz\n",
    "# header=None argümanını verirsek sütunlarda satırlar gibi numaralandırılır\n",
    "# names=<sütun başlıklarını içeren liste> argümanı ile sütun başlıklarını haricen belirleyebiliriz"
   ]
  },
  {
   "cell_type": "code",
   "execution_count": 3,
   "metadata": {},
   "outputs": [
    {
     "name": "stdout",
     "output_type": "stream",
     "text": [
      "   1818  01  01.1  1818.004   -1  1\n",
      "0  1818   1     2  1818.007   -1  1\n",
      "1  1818   1     3  1818.010   -1  1\n",
      "2  1818   1     4  1818.012   -1  1\n",
      "3  1818   1     5  1818.015   -1  1\n",
      "4  1818   1     6  1818.018   -1  1\n"
     ]
    }
   ],
   "source": [
    "import pandas as pd\n",
    "\n",
    "df = pd.read_csv('ISSN_D_tot.csv')\n",
    "print(df.head())"
   ]
  },
  {
   "cell_type": "code",
   "execution_count": 4,
   "metadata": {},
   "outputs": [
    {
     "name": "stdout",
     "output_type": "stream",
     "text": [
      "      0  1  2         3  4  5\n",
      "0  1818  1  1  1818.004 -1  1\n",
      "1  1818  1  2  1818.007 -1  1\n",
      "2  1818  1  3  1818.010 -1  1\n",
      "3  1818  1  4  1818.012 -1  1\n",
      "4  1818  1  5  1818.015 -1  1\n"
     ]
    }
   ],
   "source": [
    "df = pd.read_csv('ISSN_D_tot.csv', header=None)\n",
    "print(df.head())"
   ]
  },
  {
   "cell_type": "code",
   "execution_count": 5,
   "metadata": {},
   "outputs": [
    {
     "name": "stdout",
     "output_type": "stream",
     "text": [
      "   year  month  day  dec_date  sunspots  definite\n",
      "0  1818      1    1  1818.004        -1         1\n",
      "1  1818      1    2  1818.007        -1         1\n",
      "2  1818      1    3  1818.010        -1         1\n",
      "3  1818      1    4  1818.012        -1         1\n",
      "4  1818      1    5  1818.015        -1         1\n"
     ]
    }
   ],
   "source": [
    "column_names = ['year', 'month', 'day', 'dec_date', 'sunspots', 'definite']\n",
    "df = pd.read_csv('ISSN_D_tot.csv', names=column_names)\n",
    "print(df.head())"
   ]
  },
  {
   "cell_type": "code",
   "execution_count": 6,
   "metadata": {},
   "outputs": [],
   "source": [
    "# 4. sütunda çok sayıda -1 görmekteyiz. Bu değerler kayıp değerleri temsil ediyor\n",
    "# Verilerin kayıp olarak görülebilmesi için verimizi okurken kayıp değerlerin nasıl temsil edildiğini belirtmeliyiz\n",
    "# na_values parametresine kayıp değerleri temsil eden değeri argüman olarak sağlayarak bu değerlerin kayıp değerler\n",
    "# olarak tanımlanmasını sağlayabiliriz. Asıl veri kümesinde bu değerler ' -1' olarak temsil edildiğinden boşluk\n",
    "# karakteri de kullanmak gerekiyor. Birden fazla kayıp değer temsili söz konusu ise bunu liste ile sağlarız\n",
    "# Eğer her sütun için farklı kayıp değer temsilleri söz konusu ise na_values parametresine bir sözlük sağlarız\n",
    "# pd.read_csv(...., na_values={'sunspots':[' -1']...})"
   ]
  },
  {
   "cell_type": "code",
   "execution_count": 8,
   "metadata": {},
   "outputs": [
    {
     "name": "stdout",
     "output_type": "stream",
     "text": [
      "   year  month  day  dec_date  sunspots  definite\n",
      "0  1818      1    1  1818.004       NaN         1\n",
      "1  1818      1    2  1818.007       NaN         1\n",
      "2  1818      1    3  1818.010       NaN         1\n",
      "3  1818      1    4  1818.012       NaN         1\n",
      "4  1818      1    5  1818.015       NaN         1\n"
     ]
    }
   ],
   "source": [
    "column_names = ['year', 'month', 'day', 'dec_date', 'sunspots', 'definite']\n",
    "df = pd.read_csv('ISSN_D_tot.csv', names=column_names, na_values=' -1')\n",
    "print(df.head())"
   ]
  },
  {
   "cell_type": "code",
   "execution_count": 9,
   "metadata": {},
   "outputs": [],
   "source": [
    "# Verilerimize baktığımız zaman zamanın farklı sütunlarda temsil edildiğini görüyoruz. Tek bir sütunda temsil\n",
    "# edebiliriz. Bunun için parse_dates parametresine birleştirilecek sütunları 2B-liste olarak sağlarız\n",
    "# Böylece datetime tipinde bir sütun oluştururuz"
   ]
  },
  {
   "cell_type": "code",
   "execution_count": 17,
   "metadata": {},
   "outputs": [
    {
     "name": "stdout",
     "output_type": "stream",
     "text": [
      "  year_month_day  dec_date  sunspots  definite\n",
      "0     1818-01-01  1818.004       NaN         1\n",
      "1     1818-01-02  1818.007       NaN         1\n",
      "2     1818-01-03  1818.010       NaN         1\n",
      "3     1818-01-04  1818.012       NaN         1\n",
      "4     1818-01-05  1818.015       NaN         1\n",
      "<class 'pandas.core.frame.DataFrame'>\n",
      "RangeIndex: 72104 entries, 0 to 72103\n",
      "Data columns (total 4 columns):\n",
      "year_month_day    72104 non-null datetime64[ns]\n",
      "dec_date          72104 non-null float64\n",
      "sunspots          68857 non-null float64\n",
      "definite          72104 non-null int64\n",
      "dtypes: datetime64[ns](1), float64(2), int64(1)\n",
      "memory usage: 2.2 MB\n",
      "None\n"
     ]
    }
   ],
   "source": [
    "column_names = ['year', 'month', 'day', 'dec_date', 'sunspots', 'definite']\n",
    "df = pd.read_csv('ISSN_D_tot.csv', names=column_names, \n",
    "                 na_values={'sunspots':[' -1']}, parse_dates=[[0, 1, 2]])\n",
    "print(df.head())\n",
    "print(df.info())"
   ]
  },
  {
   "cell_type": "code",
   "execution_count": 14,
   "metadata": {},
   "outputs": [],
   "source": [
    "# Dataframe in index fieldına atama yaparak satır etiketleri sağlayabiliriz. Ayrıca index fieldının index.name\n",
    "# fieldı ile indexleri tutan sütunu isimlendirebiliriz"
   ]
  },
  {
   "cell_type": "code",
   "execution_count": 18,
   "metadata": {},
   "outputs": [
    {
     "name": "stdout",
     "output_type": "stream",
     "text": [
      "           year_month_day  dec_date  sunspots  definite\n",
      "date                                                   \n",
      "1818-01-01     1818-01-01  1818.004       NaN         1\n",
      "1818-01-02     1818-01-02  1818.007       NaN         1\n",
      "1818-01-03     1818-01-03  1818.010       NaN         1\n",
      "1818-01-04     1818-01-04  1818.012       NaN         1\n",
      "1818-01-05     1818-01-05  1818.015       NaN         1\n"
     ]
    }
   ],
   "source": [
    "df.index = df['year_month_day']\n",
    "df.index.name = 'date'\n",
    "print(df.head())"
   ]
  },
  {
   "cell_type": "code",
   "execution_count": 16,
   "metadata": {},
   "outputs": [],
   "source": [
    "# Tarihi etiket olarak kullanmamıza rağmen yukarıdaki DataFrame de halen tarih sütunları bulunmakta\n",
    "# Asıl ilgilendiğimiz sütunları vererek bu sütunlardan kurtulabiliriz"
   ]
  },
  {
   "cell_type": "code",
   "execution_count": 19,
   "metadata": {},
   "outputs": [
    {
     "name": "stdout",
     "output_type": "stream",
     "text": [
      "            sunspots  definite\n",
      "date                          \n",
      "1818-01-01       NaN         1\n",
      "1818-01-02       NaN         1\n",
      "1818-01-03       NaN         1\n",
      "1818-01-04       NaN         1\n",
      "1818-01-05       NaN         1\n"
     ]
    }
   ],
   "source": [
    "interested_cols = ['sunspots', 'definite']\n",
    "df = df[interested_cols]\n",
    "print(df.head())"
   ]
  },
  {
   "cell_type": "code",
   "execution_count": 20,
   "metadata": {},
   "outputs": [],
   "source": [
    "# Verilerimizin son halini dosyaya yazmak isteyebiliriz bunun için bazı seçenekler şöyledir:\n",
    "# df.to_csv('<file-path>'), df.to_csv('<file-path>', sep='\\t'), df.to_excel('<file-path>')\n",
    "df.to_csv('new-data.csv', sep=';')"
   ]
  }
 ],
 "metadata": {
  "kernelspec": {
   "display_name": "Python 3",
   "language": "python",
   "name": "python3"
  },
  "language_info": {
   "codemirror_mode": {
    "name": "ipython",
    "version": 3
   },
   "file_extension": ".py",
   "mimetype": "text/x-python",
   "name": "python",
   "nbconvert_exporter": "python",
   "pygments_lexer": "ipython3",
   "version": "3.6.8"
  }
 },
 "nbformat": 4,
 "nbformat_minor": 2
}
