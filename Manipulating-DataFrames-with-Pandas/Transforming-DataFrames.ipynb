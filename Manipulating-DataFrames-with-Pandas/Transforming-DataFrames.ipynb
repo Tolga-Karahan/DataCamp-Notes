{
 "cells": [
  {
   "cell_type": "code",
   "execution_count": 1,
   "metadata": {},
   "outputs": [],
   "source": [
    "# DataFrameler üzerinde dönüşümler yapmak için en iyi yöntem yine Pandas metodlarıdır\n",
    "# İkinci en iyi yöntem Numpy ufunc(universal function)larını kullanarak sütunlardaki verileri eleman eleman\n",
    "# dönüşüme tabii tutmaktır."
   ]
  },
  {
   "cell_type": "code",
   "execution_count": 2,
   "metadata": {},
   "outputs": [
    {
     "name": "stdout",
     "output_type": "stream",
     "text": [
      "   Sales  Prices\n",
      "0     24   120.0\n",
      "1     12   214.5\n",
      "2     18    32.0\n",
      "3     32   320.0\n",
      "4     48   280.7\n"
     ]
    }
   ],
   "source": [
    "import pandas as pd\n",
    "import numpy as np\n",
    "\n",
    "data = {'Sales':[24, 12, 18, 32, 48], 'Prices':[120.0, 214.5, 32.0, 320.0, 280.7]}\n",
    "df = pd.DataFrame(data)\n",
    "print(df)"
   ]
  },
  {
   "cell_type": "code",
   "execution_count": 3,
   "metadata": {},
   "outputs": [],
   "source": [
    "# floordiv metodu ile verileri argüman olarak verilen değer ile bölebiliriz ve sonuçlar aşağı yuvarlanır"
   ]
  },
  {
   "cell_type": "code",
   "execution_count": 5,
   "metadata": {},
   "outputs": [
    {
     "name": "stdout",
     "output_type": "stream",
     "text": [
      "   Sales  Prices\n",
      "0      2    10.0\n",
      "1      1    17.0\n",
      "2      1     2.0\n",
      "3      2    26.0\n",
      "4      4    23.0\n"
     ]
    }
   ],
   "source": [
    "print(df.floordiv(12))"
   ]
  },
  {
   "cell_type": "code",
   "execution_count": 6,
   "metadata": {},
   "outputs": [],
   "source": [
    "# floordiv metodunun Numpy eşdeğeri floor_divide fonksiyonudur"
   ]
  },
  {
   "cell_type": "code",
   "execution_count": 7,
   "metadata": {},
   "outputs": [
    {
     "name": "stdout",
     "output_type": "stream",
     "text": [
      "   Sales  Prices\n",
      "0    2.0    10.0\n",
      "1    1.0    17.0\n",
      "2    1.0     2.0\n",
      "3    2.0    26.0\n",
      "4    4.0    23.0\n"
     ]
    }
   ],
   "source": [
    "print(np.floor_divide(df, 12))"
   ]
  },
  {
   "cell_type": "code",
   "execution_count": 8,
   "metadata": {},
   "outputs": [],
   "source": [
    "# Builtin fonksiyonları kullanmazsak lambda fonksiyonu ile de benzer işlevi yerine getirebiliriz"
   ]
  },
  {
   "cell_type": "code",
   "execution_count": 9,
   "metadata": {},
   "outputs": [
    {
     "name": "stdout",
     "output_type": "stream",
     "text": [
      "      Sales     Prices\n",
      "0  2.000000  10.000000\n",
      "1  1.000000  17.875000\n",
      "2  1.500000   2.666667\n",
      "3  2.666667  26.666667\n",
      "4  4.000000  23.391667\n"
     ]
    }
   ],
   "source": [
    "print(df.apply(lambda x: x/12))"
   ]
  },
  {
   "cell_type": "code",
   "execution_count": 10,
   "metadata": {},
   "outputs": [],
   "source": [
    "# Bu metodları tek bir sütuna ve ya bir dizi sütuna da uygulayabiliriz"
   ]
  },
  {
   "cell_type": "code",
   "execution_count": 11,
   "metadata": {},
   "outputs": [],
   "source": [
    "# String değerler içeren sütunlar üzerinde str attribute ünü kullanmak çok kullanışlıdır"
   ]
  },
  {
   "cell_type": "code",
   "execution_count": 12,
   "metadata": {},
   "outputs": [],
   "source": [
    "# Sütunları kullanarak Numpy listelerinde olduğu gibi matematiksel işlemler yapabiliriz"
   ]
  },
  {
   "cell_type": "code",
   "execution_count": 13,
   "metadata": {},
   "outputs": [],
   "source": [
    "# Pandas map metodu uygulandığı Series üzerindeki değerleri aldığı sözlüğe göre değiştirir"
   ]
  },
  {
   "cell_type": "code",
   "execution_count": 16,
   "metadata": {},
   "outputs": [
    {
     "name": "stdout",
     "output_type": "stream",
     "text": [
      "  Letters\n",
      "0       a\n",
      "1       b\n",
      "2       c\n"
     ]
    }
   ],
   "source": [
    "data = {'Letters':['a', 'b', 'c']}\n",
    "df = pd.DataFrame(data)\n",
    "print(df)"
   ]
  },
  {
   "cell_type": "code",
   "execution_count": 20,
   "metadata": {},
   "outputs": [
    {
     "name": "stdout",
     "output_type": "stream",
     "text": [
      "  Letters\n",
      "0     NaN\n",
      "1     NaN\n",
      "2     NaN\n"
     ]
    }
   ],
   "source": [
    "df['Letters'] = df['Letters'].map({'a':'A', 'b':'B', 'c':'C'})\n",
    "print(df)"
   ]
  },
  {
   "cell_type": "code",
   "execution_count": null,
   "metadata": {},
   "outputs": [],
   "source": [
    "# Performans için mümkün olduğunca apply ve map metodlarından kaçınılmalıdır"
   ]
  }
 ],
 "metadata": {
  "kernelspec": {
   "display_name": "Python 3",
   "language": "python",
   "name": "python3"
  },
  "language_info": {
   "codemirror_mode": {
    "name": "ipython",
    "version": 3
   },
   "file_extension": ".py",
   "mimetype": "text/x-python",
   "name": "python",
   "nbconvert_exporter": "python",
   "pygments_lexer": "ipython3",
   "version": "3.6.8"
  }
 },
 "nbformat": 4,
 "nbformat_minor": 2
}
