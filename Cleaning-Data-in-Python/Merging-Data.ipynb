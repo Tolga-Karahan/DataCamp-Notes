{
 "cells": [
  {
   "cell_type": "code",
   "execution_count": null,
   "metadata": {},
   "outputs": [],
   "source": [
    "# Eğer iki ayrı tabloya ait sütunları birleştirmek istiyorsak fakat veriler hizalı değilse concat yapamayız\n",
    "# Bu gibi durumlarda merge işlemi yapmalıyız. Yani tıpkı SQL join işlemlerinde olduğu gibi ortak sütunlar\n",
    "# üzerinden verileri birleştirmemiz gerekir. Böylece merge işlemi yapılan sütun üzerindeki değerleri aynı olan\n",
    "# satırlar eşleştirilerek birleştirilir."
   ]
  },
  {
   "cell_type": "code",
   "execution_count": 9,
   "metadata": {},
   "outputs": [
    {
     "name": "stdout",
     "output_type": "stream",
     "text": [
      "        state  population_2016\n",
      "0  California         39250017\n",
      "1       Texas         27862596\n",
      "2     Florida         20612439\n",
      "3    New York         19745289\n",
      "         name ANSI\n",
      "0  California   CA\n",
      "1     Florida   FL\n",
      "2    New York   NY\n",
      "3       Texas   TX\n"
     ]
    }
   ],
   "source": [
    "import pandas as pd\n",
    "\n",
    "table1 = {'state':['California', 'Texas', 'Florida', 'New York'], \n",
    "          'population_2016':[39250017, 27862596, 20612439, 19745289]}\n",
    "\n",
    "table2 = {'name':['California', 'Florida', 'New York', 'Texas'],\n",
    "          'ANSI':['CA', 'FL', 'NY', 'TX']}\n",
    "\n",
    "df1 = pd.DataFrame(table1)\n",
    "df2 = pd.DataFrame(table2)\n",
    "\n",
    "print(df1)\n",
    "print(df2)"
   ]
  },
  {
   "cell_type": "code",
   "execution_count": 2,
   "metadata": {},
   "outputs": [],
   "source": [
    "# Dataframeleri merge etmek için pandas kütüphanesinde bulunan merge fonksiyonunu kullanıyoruz\n",
    "# left ve right parametreleri ile birleştirilecek olan DataFrameleri belirleriz. Eğer dataframeleri bir anahtar\n",
    "# değere yani aynı isme sahip sütunlar üzerinden birleştireceksek on parametresi ile bu anahtar sütunu belirleriz\n",
    "# Eğer sütunlar farklı isimlerde iseler her bir anahtar değeri left_on ve right_on parametreleri ile belirleriz"
   ]
  },
  {
   "cell_type": "code",
   "execution_count": 10,
   "metadata": {},
   "outputs": [
    {
     "name": "stdout",
     "output_type": "stream",
     "text": [
      "        state  population_2016        name ANSI\n",
      "0  California         39250017  California   CA\n",
      "1       Texas         27862596       Texas   TX\n",
      "2     Florida         20612439     Florida   FL\n",
      "3    New York         19745289    New York   NY\n"
     ]
    }
   ],
   "source": [
    "df = pd.merge(left=df1, right=df2, on=None, left_on='state', right_on='name')\n",
    "print(df)"
   ]
  },
  {
   "cell_type": "code",
   "execution_count": 4,
   "metadata": {},
   "outputs": [],
   "source": [
    "# 3 tipte merge işlemi söz konusudur:\n",
    "# 1)One-to-one\n",
    "# 2)One-to-many / Many-to-One\n",
    "# 3)many-to-many"
   ]
  },
  {
   "cell_type": "code",
   "execution_count": 5,
   "metadata": {},
   "outputs": [],
   "source": [
    "# One-to-one merge işleminde, her iki tabloda da kullanılan anahtar değere karşılık bir tane değer vardır"
   ]
  },
  {
   "cell_type": "code",
   "execution_count": 6,
   "metadata": {},
   "outputs": [],
   "source": [
    "# One-to-many ve ya Many-to-one merge işleminde tablolardan birinde anahtar değerlerde tekrarlanmalar bulunur\n",
    "# Birleştirme işlemi yapılırken tekrarlanma bulunan tablodaki boşluklar diğer tablodan aynı değerler ile doldurulur"
   ]
  },
  {
   "cell_type": "code",
   "execution_count": null,
   "metadata": {},
   "outputs": [],
   "source": [
    "# Many-to-many merge işleminde her bir tekrar için kombinasyon çifti tekrar üretilir"
   ]
  },
  {
   "cell_type": "code",
   "execution_count": null,
   "metadata": {},
   "outputs": [],
   "source": [
    "# Tüm birleştirme işlemlerinde aynı fonksiyon kullanılır"
   ]
  }
 ],
 "metadata": {
  "kernelspec": {
   "display_name": "Python 3",
   "language": "python",
   "name": "python3"
  },
  "language_info": {
   "codemirror_mode": {
    "name": "ipython",
    "version": 3
   },
   "file_extension": ".py",
   "mimetype": "text/x-python",
   "name": "python",
   "nbconvert_exporter": "python",
   "pygments_lexer": "ipython3",
   "version": "3.6.8"
  }
 },
 "nbformat": 4,
 "nbformat_minor": 2
}
