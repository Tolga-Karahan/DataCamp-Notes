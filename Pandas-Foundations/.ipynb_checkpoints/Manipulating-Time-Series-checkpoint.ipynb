{
 "cells": [
  {
   "cell_type": "code",
   "execution_count": 1,
   "metadata": {},
   "outputs": [],
   "source": [
    "# DataFrame sütunlarına str atrribute ile string gibi davranabiliriz. Bu sayede satırlardaki tüm değerleri\n",
    "# string metodlarını kullanarak manipüle edebiliriz ve ya contains metodu ile hangi satırlarda aradığımız\n",
    "# alt stringin bulunduğunu öğrenebiliriz. Sonuç olarak boolean değerler içeren bir Series döneceğinden\n",
    "# sum metodu ile kaç tane satırın aradığımız stringi içerdiğini bulabiliriz\n",
    "# Datetime işlemleri için dt attribute kullanabiliriz. Kullanım olarak str attribute gibidir\n",
    "# Örneğin tarih-zaman bilgisi içeren bir sütundan saat bilgisini şu şekilde çıkartabiliriz: df['Date'].dt.hour "
   ]
  },
  {
   "cell_type": "code",
   "execution_count": 22,
   "metadata": {},
   "outputs": [
    {
     "data": {
      "text/html": [
       "<div>\n",
       "<style scoped>\n",
       "    .dataframe tbody tr th:only-of-type {\n",
       "        vertical-align: middle;\n",
       "    }\n",
       "\n",
       "    .dataframe tbody tr th {\n",
       "        vertical-align: top;\n",
       "    }\n",
       "\n",
       "    .dataframe thead th {\n",
       "        text-align: right;\n",
       "    }\n",
       "</style>\n",
       "<table border=\"1\" class=\"dataframe\">\n",
       "  <thead>\n",
       "    <tr style=\"text-align: right;\">\n",
       "      <th></th>\n",
       "      <th>date_TimeEST</th>\n",
       "      <th>TemperatureF</th>\n",
       "      <th>Dew PointF</th>\n",
       "      <th>Humidity</th>\n",
       "      <th>Wind SpeedMPH</th>\n",
       "      <th>Conditions</th>\n",
       "    </tr>\n",
       "  </thead>\n",
       "  <tbody>\n",
       "    <tr>\n",
       "      <th>0</th>\n",
       "      <td>2016-01-01 12:51:00</td>\n",
       "      <td>42.1</td>\n",
       "      <td>25.0</td>\n",
       "      <td>51.0</td>\n",
       "      <td>4.6</td>\n",
       "      <td>Overcast</td>\n",
       "    </tr>\n",
       "    <tr>\n",
       "      <th>1</th>\n",
       "      <td>2016-01-01 01:51:00</td>\n",
       "      <td>41.0</td>\n",
       "      <td>25.0</td>\n",
       "      <td>53.0</td>\n",
       "      <td>3.5</td>\n",
       "      <td>Overcast</td>\n",
       "    </tr>\n",
       "    <tr>\n",
       "      <th>2</th>\n",
       "      <td>2016-01-01 02:51:00</td>\n",
       "      <td>41.0</td>\n",
       "      <td>26.1</td>\n",
       "      <td>55.0</td>\n",
       "      <td>4.6</td>\n",
       "      <td>Overcast</td>\n",
       "    </tr>\n",
       "    <tr>\n",
       "      <th>3</th>\n",
       "      <td>2016-01-01 03:51:00</td>\n",
       "      <td>41.0</td>\n",
       "      <td>26.1</td>\n",
       "      <td>55.0</td>\n",
       "      <td>9.2</td>\n",
       "      <td>Overcast</td>\n",
       "    </tr>\n",
       "    <tr>\n",
       "      <th>4</th>\n",
       "      <td>2016-01-01 04:51:00</td>\n",
       "      <td>39.9</td>\n",
       "      <td>26.1</td>\n",
       "      <td>58.0</td>\n",
       "      <td>10.4</td>\n",
       "      <td>Overcast</td>\n",
       "    </tr>\n",
       "  </tbody>\n",
       "</table>\n",
       "</div>"
      ],
      "text/plain": [
       "         date_TimeEST  TemperatureF  Dew PointF  Humidity Wind SpeedMPH  \\\n",
       "0 2016-01-01 12:51:00          42.1        25.0      51.0           4.6   \n",
       "1 2016-01-01 01:51:00          41.0        25.0      53.0           3.5   \n",
       "2 2016-01-01 02:51:00          41.0        26.1      55.0           4.6   \n",
       "3 2016-01-01 03:51:00          41.0        26.1      55.0           9.2   \n",
       "4 2016-01-01 04:51:00          39.9        26.1      58.0          10.4   \n",
       "\n",
       "  Conditions  \n",
       "0   Overcast  \n",
       "1   Overcast  \n",
       "2   Overcast  \n",
       "3   Overcast  \n",
       "4   Overcast  "
      ]
     },
     "execution_count": 22,
     "metadata": {},
     "output_type": "execute_result"
    }
   ],
   "source": [
    "import pandas as pd\n",
    "\n",
    "temperatures = pd.read_csv('New_York_Hourly.csv', parse_dates=[[0, 1]])\n",
    "temperatures.head()"
   ]
  },
  {
   "cell_type": "code",
   "execution_count": 23,
   "metadata": {},
   "outputs": [
    {
     "data": {
      "text/html": [
       "<div>\n",
       "<style scoped>\n",
       "    .dataframe tbody tr th:only-of-type {\n",
       "        vertical-align: middle;\n",
       "    }\n",
       "\n",
       "    .dataframe tbody tr th {\n",
       "        vertical-align: top;\n",
       "    }\n",
       "\n",
       "    .dataframe thead th {\n",
       "        text-align: right;\n",
       "    }\n",
       "</style>\n",
       "<table border=\"1\" class=\"dataframe\">\n",
       "  <thead>\n",
       "    <tr style=\"text-align: right;\">\n",
       "      <th></th>\n",
       "      <th>date_TimeEST</th>\n",
       "      <th>TemperatureF</th>\n",
       "      <th>Dew PointF</th>\n",
       "      <th>Humidity</th>\n",
       "      <th>Wind SpeedMPH</th>\n",
       "      <th>Conditions</th>\n",
       "    </tr>\n",
       "  </thead>\n",
       "  <tbody>\n",
       "    <tr>\n",
       "      <th>0</th>\n",
       "      <td>2016-01-01 12:51:00</td>\n",
       "      <td>42.1</td>\n",
       "      <td>25.0</td>\n",
       "      <td>51.0</td>\n",
       "      <td>4.6</td>\n",
       "      <td>overcast</td>\n",
       "    </tr>\n",
       "    <tr>\n",
       "      <th>1</th>\n",
       "      <td>2016-01-01 01:51:00</td>\n",
       "      <td>41.0</td>\n",
       "      <td>25.0</td>\n",
       "      <td>53.0</td>\n",
       "      <td>3.5</td>\n",
       "      <td>overcast</td>\n",
       "    </tr>\n",
       "    <tr>\n",
       "      <th>2</th>\n",
       "      <td>2016-01-01 02:51:00</td>\n",
       "      <td>41.0</td>\n",
       "      <td>26.1</td>\n",
       "      <td>55.0</td>\n",
       "      <td>4.6</td>\n",
       "      <td>overcast</td>\n",
       "    </tr>\n",
       "    <tr>\n",
       "      <th>3</th>\n",
       "      <td>2016-01-01 03:51:00</td>\n",
       "      <td>41.0</td>\n",
       "      <td>26.1</td>\n",
       "      <td>55.0</td>\n",
       "      <td>9.2</td>\n",
       "      <td>overcast</td>\n",
       "    </tr>\n",
       "    <tr>\n",
       "      <th>4</th>\n",
       "      <td>2016-01-01 04:51:00</td>\n",
       "      <td>39.9</td>\n",
       "      <td>26.1</td>\n",
       "      <td>58.0</td>\n",
       "      <td>10.4</td>\n",
       "      <td>overcast</td>\n",
       "    </tr>\n",
       "  </tbody>\n",
       "</table>\n",
       "</div>"
      ],
      "text/plain": [
       "         date_TimeEST  TemperatureF  Dew PointF  Humidity Wind SpeedMPH  \\\n",
       "0 2016-01-01 12:51:00          42.1        25.0      51.0           4.6   \n",
       "1 2016-01-01 01:51:00          41.0        25.0      53.0           3.5   \n",
       "2 2016-01-01 02:51:00          41.0        26.1      55.0           4.6   \n",
       "3 2016-01-01 03:51:00          41.0        26.1      55.0           9.2   \n",
       "4 2016-01-01 04:51:00          39.9        26.1      58.0          10.4   \n",
       "\n",
       "  Conditions  \n",
       "0   overcast  \n",
       "1   overcast  \n",
       "2   overcast  \n",
       "3   overcast  \n",
       "4   overcast  "
      ]
     },
     "execution_count": 23,
     "metadata": {},
     "output_type": "execute_result"
    }
   ],
   "source": [
    "temperatures.Conditions = temperatures.Conditions.str.lower()\n",
    "temperatures.head()"
   ]
  },
  {
   "cell_type": "code",
   "execution_count": 25,
   "metadata": {},
   "outputs": [
    {
     "name": "stdout",
     "output_type": "stream",
     "text": [
      "[12  1  2 ...  9 10 11]\n"
     ]
    }
   ],
   "source": [
    "print(temperatures['date_TimeEST'].dt.hour.values)"
   ]
  },
  {
   "cell_type": "code",
   "execution_count": 26,
   "metadata": {},
   "outputs": [],
   "source": [
    "# tz_localize ile belirli bir timezoneda datetime nesneleri bulunabilir\n",
    "# başka bir timezona çevirmek için tz_convert metodu kullanılır"
   ]
  },
  {
   "cell_type": "code",
   "execution_count": 27,
   "metadata": {},
   "outputs": [],
   "source": [
    "# Upsampling yaptığımızda NaN değerler oluşur. Bu değerler yerine interpolasyon yapılmalıdır\n",
    "# Örneğin 10 yıllık frekansa sahip bir zaman serisi 1 yıllık aralıklara upsampling yapılabilir\n",
    "# Bu durumda her 10 yıllık periyodun ilk değeri alınarak NaN değerler lineer olarak interpolasyon yapılabilir\n",
    "# population.resample('A').first().interpolate('linear')"
   ]
  },
  {
   "cell_type": "code",
   "execution_count": 37,
   "metadata": {},
   "outputs": [
    {
     "data": {
      "image/png": "[encoded data removed]",
      "text/plain": [
       "<Figure size 432x288 with 1 Axes>"
      ]
     },
     "metadata": {
      "needs_background": "light"
     },
     "output_type": "display_data"
    }
   ],
   "source": [
    "import matplotlib.pyplot as plt\n",
    "\n",
    "dates = ['1990-08-01 00:00', '2000-08-01 00:00', '2010-08-01 00:00', '2020-08-01 00:00']\n",
    "values = [100, 50, 150, 75]\n",
    "data = pd.Series(values, index=pd.to_datetime(dates))\n",
    "# style attribute de ilk karakter renk, ikinci karakter işaret, üçüncü karakter ise doğru tipidir\n",
    "data.resample('A').first().interpolate('linear').plot(title='interpolated time series', style='y.-')\n",
    "plt.show()"
   ]
  },
  {
   "cell_type": "code",
   "execution_count": null,
   "metadata": {},
   "outputs": [],
   "source": []
  }
 ],
 "metadata": {
  "kernelspec": {
   "display_name": "Python 3",
   "language": "python",
   "name": "python3"
  },
  "language_info": {
   "codemirror_mode": {
    "name": "ipython",
    "version": 3
   },
   "file_extension": ".py",
   "mimetype": "text/x-python",
   "name": "python",
   "nbconvert_exporter": "python",
   "pygments_lexer": "ipython3",
   "version": "3.6.8"
  }
 },
 "nbformat": 4,
 "nbformat_minor": 2
}
