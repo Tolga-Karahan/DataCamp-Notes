{
 "cells": [
  {
   "cell_type": "code",
   "execution_count": 1,
   "metadata": {},
   "outputs": [],
   "source": [
    "# Veriler her zaman tek bir büyük dosya halinde gelmeyebilir. Dolayısıyla birleştirmemiz gerekebilir"
   ]
  },
  {
   "cell_type": "code",
   "execution_count": 2,
   "metadata": {},
   "outputs": [
    {
     "name": "stdout",
     "output_type": "stream",
     "text": [
      "         date element  value\n",
      "0  2010-01-30    tmax   27.8\n",
      "1  2010-01-30    tmin   14.5\n",
      "         date element  value\n",
      "0  2010-02-02    tmax   27.3\n",
      "1  2010-02-02    tmin   14.4\n"
     ]
    }
   ],
   "source": [
    "import pandas as pd\n",
    "\n",
    "data1={'date':['2010-01-30', '2010-01-30'], 'element':['tmax', 'tmin'], 'value':[27.8, 14.5]}\n",
    "data2={'date':['2010-02-02', '2010-02-02'], 'element':['tmax', 'tmin'], 'value':[27.3, 14.4]}\n",
    "\n",
    "df1=pd.DataFrame(data1)\n",
    "df2=pd.DataFrame(data2)\n",
    "print(df1)\n",
    "print(df2)"
   ]
  },
  {
   "cell_type": "code",
   "execution_count": 3,
   "metadata": {},
   "outputs": [],
   "source": [
    "# concat fonksiyonu ile dataframeleri birleştirebiliriz"
   ]
  },
  {
   "cell_type": "code",
   "execution_count": 4,
   "metadata": {},
   "outputs": [
    {
     "name": "stdout",
     "output_type": "stream",
     "text": [
      "         date element  value\n",
      "0  2010-01-30    tmax   27.8\n",
      "1  2010-01-30    tmin   14.5\n",
      "0  2010-02-02    tmax   27.3\n",
      "1  2010-02-02    tmin   14.4\n"
     ]
    }
   ],
   "source": [
    "df=pd.concat([df1, df2])\n",
    "print(df)"
   ]
  },
  {
   "cell_type": "code",
   "execution_count": 5,
   "metadata": {},
   "outputs": [],
   "source": [
    "# Birleştirdiğimiz dataframe de satır indexlerinin aynı olduğunu görüyoruz\n",
    "# Bu durum indeksleme yaparken sıkıntılara yol açar"
   ]
  },
  {
   "cell_type": "code",
   "execution_count": 10,
   "metadata": {},
   "outputs": [
    {
     "name": "stdout",
     "output_type": "stream",
     "text": [
      "         date element  value\n",
      "0  2010-01-30    tmax   27.8\n",
      "0  2010-02-02    tmax   27.3\n"
     ]
    }
   ],
   "source": [
    "print(df.loc[0,:])"
   ]
  },
  {
   "cell_type": "code",
   "execution_count": 8,
   "metadata": {},
   "outputs": [],
   "source": [
    "# Dataframelerin birleştirilmesinden oluşan dataframede indexlerin sıralı olmasını isteyebiliriz\n",
    "# Bunun için concat fonksiyonunun ignore_index parametresine True geçirmeliyiz"
   ]
  },
  {
   "cell_type": "code",
   "execution_count": 11,
   "metadata": {},
   "outputs": [
    {
     "name": "stdout",
     "output_type": "stream",
     "text": [
      "         date element  value\n",
      "0  2010-01-30    tmax   27.8\n",
      "1  2010-01-30    tmin   14.5\n",
      "2  2010-02-02    tmax   27.3\n",
      "3  2010-02-02    tmin   14.4\n"
     ]
    }
   ],
   "source": [
    "df = pd.concat([df1, df2], ignore_index=True)\n",
    "print(df)"
   ]
  },
  {
   "cell_type": "code",
   "execution_count": 20,
   "metadata": {},
   "outputs": [],
   "source": [
    "# concat fonksiyonuna axis=1 argümanını sağlayarak sütun boyunca birleştirme yapabiliriz"
   ]
  },
  {
   "cell_type": "code",
   "execution_count": 21,
   "metadata": {},
   "outputs": [],
   "source": [
    "# Eğer çok fazla sayıda dataframe i birleştirmemiz gerekiyorsa liste içerisinde hepsini argüman olarak veremeyiz\n",
    "# Bu durumda glob fonksiyonunu kullanabiliriz. globe fonksiyonu verilen patern ile eşleşen tüm dosya isimlerini\n",
    "# bir liste olarak döndürür. Bu listeyi kullanarak dosyaları döngü içerisinde dataframelere yükleyebiliriz ve\n",
    "# her bir dataframe ismini bir listeye ekleyerek okuma işlemi bittikten sonra dataframeleri birleştirebiliriz"
   ]
  },
  {
   "cell_type": "code",
   "execution_count": 27,
   "metadata": {},
   "outputs": [
    {
     "name": "stdout",
     "output_type": "stream",
     "text": [
      "    fixed acidity  volatile acidity  citric acid  residual sugar  chlorides  \\\n",
      "0             7.4             0.700         0.00             1.9      0.076   \n",
      "1             7.8             0.880         0.00             2.6      0.098   \n",
      "2             7.8             0.760         0.04             2.3      0.092   \n",
      "3            11.2             0.280         0.56             1.9      0.075   \n",
      "4             7.5             0.500         0.36             6.1      0.071   \n",
      "5             6.7             0.580         0.08             1.8      0.097   \n",
      "6             7.5             0.500         0.36             6.1      0.071   \n",
      "7             5.6             0.615         0.00             1.6      0.089   \n",
      "8             7.8             0.610         0.29             1.6      0.114   \n",
      "9             8.9             0.620         0.18             3.8      0.176   \n",
      "10            8.9             0.620         0.19             3.9      0.170   \n",
      "11            7.9             0.320         0.51             1.8      0.341   \n",
      "12            8.9             0.220         0.48             1.8      0.077   \n",
      "13            7.6             0.390         0.31             2.3      0.082   \n",
      "14            7.9             0.430         0.21             1.6      0.106   \n",
      "15            8.5             0.490         0.11             2.3      0.084   \n",
      "16            6.9             0.400         0.14             2.4      0.085   \n",
      "\n",
      "    free sulfur dioxide  total sulfur dioxide  density    pH  sulphates  \\\n",
      "0                    11                    34   0.9978  3.51       0.56   \n",
      "1                    25                    67   0.9968  3.20       0.68   \n",
      "2                    15                    54   0.9970  3.26       0.65   \n",
      "3                    17                    60   0.9980  3.16       0.58   \n",
      "4                    17                   102   0.9978  3.35       0.80   \n",
      "5                    15                    65   0.9959  3.28       0.54   \n",
      "6                    17                   102   0.9978  3.35       0.80   \n",
      "7                    16                    59   0.9943  3.58       0.52   \n",
      "8                     9                    29   0.9974  3.26       1.56   \n",
      "9                    52                   145   0.9986  3.16       0.88   \n",
      "10                   51                   148   0.9986  3.17       0.93   \n",
      "11                   17                    56   0.9969  3.04       1.08   \n",
      "12                   29                    60   0.9968  3.39       0.53   \n",
      "13                   23                    71   0.9982  3.52       0.65   \n",
      "14                   10                    37   0.9966  3.17       0.91   \n",
      "15                    9                    67   0.9968  3.17       0.53   \n",
      "16                   21                    40   0.9968  3.43       0.63   \n",
      "\n",
      "    alcohol  quality  \n",
      "0       9.4        5  \n",
      "1       9.8        5  \n",
      "2       9.8        5  \n",
      "3       9.8        6  \n",
      "4      10.5        5  \n",
      "5       9.2        5  \n",
      "6      10.5        5  \n",
      "7       9.9        5  \n",
      "8       9.1        5  \n",
      "9       9.2        5  \n",
      "10      9.2        5  \n",
      "11      9.2        6  \n",
      "12      9.4        6  \n",
      "13      9.7        5  \n",
      "14      9.5        5  \n",
      "15      9.4        5  \n",
      "16      9.7        6  \n"
     ]
    }
   ],
   "source": [
    "import glob\n",
    "\n",
    "files = glob.glob('*.csv')\n",
    "\n",
    "dfs = []\n",
    "for file in files:\n",
    "    file = pd.read_csv(file, sep=';')\n",
    "    dfs.append(file)\n",
    "\n",
    "df = pd.concat(dfs, ignore_index=True)\n",
    "print(df)"
   ]
  },
  {
   "cell_type": "code",
   "execution_count": null,
   "metadata": {},
   "outputs": [],
   "source": []
  }
 ],
 "metadata": {
  "kernelspec": {
   "display_name": "Python 3",
   "language": "python",
   "name": "python3"
  },
  "language_info": {
   "codemirror_mode": {
    "name": "ipython",
    "version": 3
   },
   "file_extension": ".py",
   "mimetype": "text/x-python",
   "name": "python",
   "nbconvert_exporter": "python",
   "pygments_lexer": "ipython3",
   "version": "3.6.8"
  }
 },
 "nbformat": 4,
 "nbformat_minor": 2
}
