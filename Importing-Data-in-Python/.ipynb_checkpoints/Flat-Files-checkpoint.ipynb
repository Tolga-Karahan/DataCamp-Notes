{
 "cells": [
  {
   "cell_type": "code",
   "execution_count": 1,
   "metadata": {},
   "outputs": [],
   "source": [
    "# Klasik txt gibi dosyaları open fonksiyonu ile okuyabiliriz: open('dosya-ismi', mod)\n",
    "# open fonksiyonu dosyaya bir referans döndürür ve bu referans ile dosya içeriğini okuruz\n",
    "# İstersek tüm dosyayı read metodu ile tek seferde istersek readline metodu ile satır satır okuyabiliriz\n",
    "# Dosyayı okumak için açtıktan sonra kapatarak kaynakları geri vermeliyiz"
   ]
  },
  {
   "cell_type": "code",
   "execution_count": 7,
   "metadata": {},
   "outputs": [
    {
     "name": "stdout",
     "output_type": "stream",
     "text": [
      "Line 1\n",
      "Line 2\n"
     ]
    }
   ],
   "source": [
    "file = open('test.txt', mode='r')\n",
    "print(file.read())\n",
    "file.close()"
   ]
  },
  {
   "cell_type": "code",
   "execution_count": 8,
   "metadata": {},
   "outputs": [],
   "source": [
    "# İçerisinde tablolara ait kayıtlar içeren dosyalar flat-file olarak bilinir\n",
    "# Eğer flat-file tamamen sayısal değerlerden oluşuyorsa Numpy ile verileri numpy array olarak almak mantıklıdır\n",
    "# Eğer tablolar söz konusu ise Pandas kullanırız"
   ]
  },
  {
   "cell_type": "code",
   "execution_count": 9,
   "metadata": {},
   "outputs": [],
   "source": [
    "# Numpy ile sayısal değerleri bir dosyadan okuyarak bir numpy array oluşturmak için loadtxt ve ya genfromtxt\n",
    "# metodlarını kullanabiliriz. Dosyaları okurken delimeter karakterine dikkat etmeliyiz, varsayılan olarak\n",
    "# boşluk kullanılır fakat eğer dosyada veriler farklı şekilde ayrılmışsa haricen belirlenmelidir\n",
    "# Eğer verilerin başında bir header varsa ilk satırı skiprows=1 argümanı ile atlayabiliriz\n",
    "# Eğer sadece bazı sütunları almak istiyorsak, mesela ilk ve üçüncü sütunu, usecols=[0, 2] argümanını kullanabiliriz\n",
    "# dtype parametresi ile verileri farklı formatlarda okuyabiliriz"
   ]
  },
  {
   "cell_type": "code",
   "execution_count": 11,
   "metadata": {},
   "outputs": [
    {
     "data": {
      "text/plain": [
       "array([[1., 3.],\n",
       "       [4., 6.]])"
      ]
     },
     "execution_count": 11,
     "metadata": {},
     "output_type": "execute_result"
    }
   ],
   "source": [
    "import numpy as np\n",
    "\n",
    "nums = np.loadtxt('numerical.txt', delimiter=',', usecols=[0, 2], skiprows=1)\n",
    "nums"
   ]
  },
  {
   "cell_type": "code",
   "execution_count": 16,
   "metadata": {},
   "outputs": [
    {
     "data": {
      "text/plain": [
       "array([['First', 'Second', 'Third', 'Fourth'],\n",
       "       ['Tolga', 'Karahan', 'BsC', 'Computer Engineering'],\n",
       "       ['Hande', 'Fırat', 'MsC', 'Medicine'],\n",
       "       ['Efe', 'Can', 'PhD', 'Physics']], dtype='<U20')"
      ]
     },
     "execution_count": 16,
     "metadata": {},
     "output_type": "execute_result"
    }
   ],
   "source": [
    "strs = np.loadtxt('strings.txt', delimiter=',', dtype=str)\n",
    "strs"
   ]
  },
  {
   "cell_type": "code",
   "execution_count": 17,
   "metadata": {},
   "outputs": [],
   "source": [
    "# Karışık veri tiplerinde kayıtlar bulunduran dosyaları okumak için genfromtxt metodunu kullanırız\n",
    "# dtype=None olacak şekilde argüman verdiğimizde veri tipleri kendiliğinden çıkartılır\n",
    "# Numpy dizileri sadece aynı tipte elemanlar içerebilir. Burada ise her satırda farklı tiplerde elemanlar var\n",
    "# Bu nedenle her bir elemanı alınan dosyanın satırları olan, tek boyutlu bir structured array söz konusudur"
   ]
  },
  {
   "cell_type": "code",
   "execution_count": 23,
   "metadata": {},
   "outputs": [
    {
     "data": {
      "text/plain": [
       "array([('Tolga', ' Karahan', 4.78237e+03, 26),\n",
       "       ('Ahmet', ' Ercan', 1.47000e+01, 35),\n",
       "       ('Eda', ' Güler', 3.20000e+00, 26)],\n",
       "      dtype=[('Ad', '<U5'), ('Soyad', '<U8'), ('Maaş', '<f8'), ('Yaş', '<i8')])"
      ]
     },
     "execution_count": 23,
     "metadata": {},
     "output_type": "execute_result"
    }
   ],
   "source": [
    "data = np.genfromtxt('mixed-data.txt', delimiter=',', names=True, dtype=None, encoding='UTF-8')\n",
    "data"
   ]
  },
  {
   "cell_type": "code",
   "execution_count": 24,
   "metadata": {},
   "outputs": [],
   "source": [
    "# Karışık veri tiplerinden oluşan tabloları Numpy ile okumak kullanışlı değil\n",
    "# Numpy yerine Pandas kullanmalıyız. Pandas kütüphanesinin read_csv metodu verileri okur ve bir DataFrame döndürür\n",
    "# İstersek df.values şeklinde verileri Numpy dizisi olarak elde edebiliriz"
   ]
  },
  {
   "cell_type": "code",
   "execution_count": 2,
   "metadata": {},
   "outputs": [
    {
     "data": {
      "text/plain": [
       "array([['Tolga', ' Karahan', 4782.37, 26],\n",
       "       ['Ahmet', ' Ercan', 14.7, 35],\n",
       "       ['Eda', ' Güler', 3.2, 26]], dtype=object)"
      ]
     },
     "execution_count": 2,
     "metadata": {},
     "output_type": "execute_result"
    }
   ],
   "source": [
    "import pandas as pd\n",
    "\n",
    "data = pd.read_csv('mixed-data.txt', header=0)\n",
    "values = data.values\n",
    "values"
   ]
  },
  {
   "cell_type": "code",
   "execution_count": 5,
   "metadata": {},
   "outputs": [
    {
     "data": {
      "text/html": [
       "<div>\n",
       "<style scoped>\n",
       "    .dataframe tbody tr th:only-of-type {\n",
       "        vertical-align: middle;\n",
       "    }\n",
       "\n",
       "    .dataframe tbody tr th {\n",
       "        vertical-align: top;\n",
       "    }\n",
       "\n",
       "    .dataframe thead th {\n",
       "        text-align: right;\n",
       "    }\n",
       "</style>\n",
       "<table border=\"1\" class=\"dataframe\">\n",
       "  <thead>\n",
       "    <tr style=\"text-align: right;\">\n",
       "      <th></th>\n",
       "      <th>Ad</th>\n",
       "      <th>Soyad</th>\n",
       "      <th>Maaş</th>\n",
       "      <th>Yaş</th>\n",
       "    </tr>\n",
       "  </thead>\n",
       "  <tbody>\n",
       "    <tr>\n",
       "      <th>0</th>\n",
       "      <td>Tolga</td>\n",
       "      <td>Karahan</td>\n",
       "      <td>4782.37</td>\n",
       "      <td>26</td>\n",
       "    </tr>\n",
       "    <tr>\n",
       "      <th>1</th>\n",
       "      <td>Ahmet</td>\n",
       "      <td>Ercan</td>\n",
       "      <td>14.70</td>\n",
       "      <td>Kayıp</td>\n",
       "    </tr>\n",
       "    <tr>\n",
       "      <th>2</th>\n",
       "      <td>Eda</td>\n",
       "      <td>Güler</td>\n",
       "      <td>3.20</td>\n",
       "      <td>26</td>\n",
       "    </tr>\n",
       "  </tbody>\n",
       "</table>\n",
       "</div>"
      ],
      "text/plain": [
       "      Ad     Soyad     Maaş     Yaş\n",
       "0  Tolga   Karahan  4782.37      26\n",
       "1  Ahmet     Ercan    14.70   Kayıp\n",
       "2    Eda     Güler     3.20      26"
      ]
     },
     "execution_count": 5,
     "metadata": {},
     "output_type": "execute_result"
    }
   ],
   "source": [
    "# Pandas paketi verileri alırken karşılaşılabilecek pek çok soruna çözüm sunar\n",
    "# Örneğin dosyalar içindeki komut satırları ve ya kayıp değerler gibi...\n",
    "data = pd.read_csv('mixed-data-corrupted.txt', sep=',', comment='#', na_values=['Kayıp'])\n",
    "data"
   ]
  },
  {
   "cell_type": "code",
   "execution_count": null,
   "metadata": {},
   "outputs": [],
   "source": []
  }
 ],
 "metadata": {
  "kernelspec": {
   "display_name": "Python 3",
   "language": "python",
   "name": "python3"
  },
  "language_info": {
   "codemirror_mode": {
    "name": "ipython",
    "version": 3
   },
   "file_extension": ".py",
   "mimetype": "text/x-python",
   "name": "python",
   "nbconvert_exporter": "python",
   "pygments_lexer": "ipython3",
   "version": "3.6.8"
  }
 },
 "nbformat": 4,
 "nbformat_minor": 2
}
